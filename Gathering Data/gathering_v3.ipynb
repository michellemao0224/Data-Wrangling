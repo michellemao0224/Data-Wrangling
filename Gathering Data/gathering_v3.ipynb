{
 "cells": [
  {
   "cell_type": "code",
   "execution_count": null,
   "metadata": {
    "collapsed": true
   },
   "outputs": [],
   "source": [
    "import rtsimple as rt\n",
    "rt.API_KEY = 'YOUR KEY HERE'\n",
    "movie = rt.Movies('10489')\n",
    "movie.ratings('audience_score')"
   ]
  },
  {
   "cell_type": "code",
   "execution_count": 1,
   "metadata": {
    "collapsed": false
   },
   "outputs": [
    {
     "ename": "ImportError",
     "evalue": "No module named wptools",
     "output_type": "error",
     "traceback": [
      "\u001b[0;31m---------------------------------------------------------------------------\u001b[0m",
      "\u001b[0;31mImportError\u001b[0m                               Traceback (most recent call last)",
      "\u001b[0;32m<ipython-input-1-b67e2544e1cf>\u001b[0m in \u001b[0;36m<module>\u001b[0;34m()\u001b[0m\n\u001b[0;32m----> 1\u001b[0;31m \u001b[0;32mimport\u001b[0m \u001b[0mwptools\u001b[0m\u001b[0;34m\u001b[0m\u001b[0m\n\u001b[0m",
      "\u001b[0;31mImportError\u001b[0m: No module named wptools"
     ]
    }
   ],
   "source": [
    "import wptools"
   ]
  },
  {
   "cell_type": "code",
   "execution_count": null,
   "metadata": {
    "collapsed": true
   },
   "outputs": [],
   "source": [
    "# Your code here: get the E.T. page object\n",
    "# This cell make take a few seconds to run\n",
    "page = wptools.page('E.T._the_Extra-Terrestrial').get()"
   ]
  },
  {
   "cell_type": "markdown",
   "metadata": {},
   "source": [
    "en.wikipedia.org (query) E.T._the_Extra-Terrestrial\n",
    "en.wikipedia.org (parse) 73441\n",
    "www.wikidata.org (wikidata) Q11621\n",
    "www.wikidata.org (labels) Q102427|P750|P4276|P905|Q8877|P1712|P23...\n",
    "www.wikidata.org (labels) Q281939|P921|P344|P480|Q1270715|P31|P31...\n",
    "www.wikidata.org (labels) P3933|P1804|P1417|P58|P3212|Q168383|Q22...\n",
    "www.wikidata.org (labels) Q586356|P2508|P1562|Q1748409|Q981030|P1...\n",
    "en.wikipedia.org (restbase) /page/summary/E.T._the_Extra-Terrestrial\n",
    "en.wikipedia.org (imageinfo) File:ET logo 3.svg|File:E t the extr...\n",
    "E.T. the Extra-Terrestrial (en) data\n",
    "{\n",
    "  aliases: <list(2)> E.T., ET\n",
    "  claims: <dict(80)> P1562, P57, P272, P345, P31, P161, P373, P480...\n",
    "  description: 1982 American science fiction film\n",
    "  exhtml: <str(606)> <p><i><b>E.T. the Extra-Terrestrial</b></i> i...\n",
    "  exrest: <str(575)> E.T. the Extra-Terrestrial is a 1982 American...\n",
    "  extext: <str(1803)> _**E.T. the Extra-Terrestrial**_ is a 1982 A...\n",
    "  extract: <str(1899)> <p><i><b>E.T. the Extra-Terrestrial</b></i>...\n",
    "  image: <list(4)> {'kind': 'parse-image', 'file': 'File:E t the e...\n",
    "  infobox: <dict(19)> name, image, alt, caption, director, produce...\n",
    "  iwlinks: <list(4)> https://commons.wikimedia.org/wiki/Special:Se...\n",
    "  label: E.T. the Extra-Terrestrial\n",
    "  labels: <dict(158)> Q102427, P750, P4276, P905, Q8877, P1712, P2...\n",
    "  length: 75,280\n",
    "  links: <list(416)> 12 Monkeys, 12 Years a Slave (film), 1941 (fi...\n",
    "  modified: <dict(2)> page, wikidata\n",
    "  pageid: 73441\n",
    "  parsetree: <str(93803)> <root><template><title>Redirect</title><...\n",
    "  random: Berninger\n",
    "  redirects: <list(38)> {'pageid': 177061, 'ns': 0, 'title': 'E.T....\n",
    "  requests: <list(9)> query, parse, wikidata, labels, labels, labe...\n",
    "  title: E.T._the_Extra-Terrestrial\n",
    "  url: https://en.wikipedia.org/wiki/E.T._the_Extra-Terrestrial\n",
    "  url_raw: <str(67)> https://en.wikipedia.org/wiki/E.T._the_Extra-...\n",
    "  watchers: 260\n",
    "  what: film\n",
    "  wikibase: Q11621\n",
    "  wikidata: <dict(80)> AllMovie movie ID (P1562), director (P57), ...\n",
    "  wikidata_url: https://www.wikidata.org/wiki/Q11621\n",
    "  wikitext: <str(74991)> {{Redirect|E.T.|other uses|ET (disambigua...\n",
    "}"
   ]
  },
  {
   "cell_type": "code",
   "execution_count": null,
   "metadata": {
    "collapsed": true
   },
   "outputs": [],
   "source": [
    "# Access the image attribute will return the images for this page\n",
    "page.data['image']"
   ]
  },
  {
   "cell_type": "code",
   "execution_count": null,
   "metadata": {
    "collapsed": true
   },
   "outputs": [],
   "source": [
    "# Access the first image in the images attribute, which is a JSON array.\n",
    "page.data['image'][0]"
   ]
  },
  {
   "cell_type": "markdown",
   "metadata": {},
   "source": [
    "{'descriptionshorturl': 'https://en.wikipedia.org/w/index.php?curid=7419503',\n",
    " 'descriptionurl': 'https://en.wikipedia.org/wiki/File:E_t_the_extra_terrestrial_ver3.jpg',\n",
    " 'file': 'File:E t the extra terrestrial ver3.jpg',\n",
    " 'height': 394,\n",
    " 'kind': 'parse-image',\n",
    " 'orig': 'E t the extra terrestrial ver3.jpg',\n",
    " 'size': 83073,\n",
    " 'timestamp': '2016-06-04T10:30:46Z',\n",
    " 'title': 'File:E t the extra terrestrial ver3.jpg',\n",
    " 'url': 'https://upload.wikimedia.org/wikipedia/en/6/66/E_t_the_extra_terrestrial_ver3.jpg',\n",
    " 'width': 253}"
   ]
  },
  {
   "cell_type": "code",
   "execution_count": null,
   "metadata": {
    "collapsed": true
   },
   "outputs": [],
   "source": [
    "# Access the director key of the infobox attribute, which is a JSON object.\n",
    "page.data['infobox']['director']"
   ]
  },
  {
   "cell_type": "markdown",
   "metadata": {},
   "source": [
    "'[[Steven Spielberg]]'"
   ]
  },
  {
   "cell_type": "code",
   "execution_count": null,
   "metadata": {
    "collapsed": true
   },
   "outputs": [],
   "source": []
  }
 ],
 "metadata": {
  "kernelspec": {
   "display_name": "Python 2",
   "language": "python",
   "name": "python2"
  },
  "language_info": {
   "codemirror_mode": {
    "name": "ipython",
    "version": 2
   },
   "file_extension": ".py",
   "mimetype": "text/x-python",
   "name": "python",
   "nbconvert_exporter": "python",
   "pygments_lexer": "ipython2",
   "version": "2.7.13"
  }
 },
 "nbformat": 4,
 "nbformat_minor": 2
}
