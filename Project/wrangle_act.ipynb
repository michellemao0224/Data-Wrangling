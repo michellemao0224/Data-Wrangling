{
 "cells": [
  {
   "cell_type": "markdown",
   "metadata": {},
   "source": [
    "# WeRateDogs Tweeter Archive"
   ]
  },
  {
   "cell_type": "markdown",
   "metadata": {},
   "source": [
    "## Gather"
   ]
  },
  {
   "cell_type": "code",
   "execution_count": 1,
   "metadata": {
    "collapsed": false
   },
   "outputs": [],
   "source": [
    "import pandas as pd\n",
    "import numpy as np\n",
    "import requests\n",
    "#import tweepy"
   ]
  },
  {
   "cell_type": "code",
   "execution_count": 2,
   "metadata": {
    "collapsed": true
   },
   "outputs": [],
   "source": [
    "tweet = pd.read_csv('twitter-archive-enhanced.csv')"
   ]
  },
  {
   "cell_type": "code",
   "execution_count": null,
   "metadata": {
    "collapsed": true
   },
   "outputs": [],
   "source": [
    "###\n",
    "r = requests.get('https://d17h27t6h515a5.cloudfront.net/topher/2017/August/599fd2ad_image-predictions/image-predictions.tsv')\n",
    "if r.status_code == 200:\n",
    "    with open('image_predictions.tsv', 'wb') as f:\n",
    "        f.write(r.content)"
   ]
  },
  {
   "cell_type": "code",
   "execution_count": 3,
   "metadata": {
    "collapsed": true
   },
   "outputs": [],
   "source": [
    "image = pd.read_csv('image_predictions.tsv', sep = '\\t')"
   ]
  },
  {
   "cell_type": "code",
   "execution_count": null,
   "metadata": {
    "collapsed": false
   },
   "outputs": [],
   "source": [
    "###\n",
    "consumer_key = 'X4Mu5bFyMBpjjstVS4XbYjZcL'\n",
    "consumer_secret = '6nXJBPj6kBPzT0zP45fZnjiAOuMTN5OEBS3tQ7xKbfIT4NuIst'\n",
    "access_token = '4366384514-l6MKA0qiPnv018rq4aSQPQd5TODG6Ko4gNeBlSA'\n",
    "access_secret = '6HcJzhQoY9fZaTfj8p5XXyBdCjNsKiB8SUURkRmSQEh3H'\n",
    "\n",
    "auth = tweepy.OAuthHandler(consumer_key, consumer_secret)\n",
    "auth.set_access_token(access_token, access_secret)\n",
    "\n",
    "api = tweepy.API(auth, wait_on_rate_limit = True, wait_on_rate_limit_notify = True )"
   ]
  },
  {
   "cell_type": "code",
   "execution_count": null,
   "metadata": {
    "collapsed": false
   },
   "outputs": [],
   "source": [
    "###\n",
    "from timeit import default_timer as timer\n",
    "\n",
    "start = timer()\n",
    "tweet_id = []\n",
    "retweet_count = []\n",
    "favorite_count = []\n",
    "\n",
    "for ids in image.tweet_id:\n",
    "    try:\n",
    "        tweet = api.get_status(ids, tweet_mode='extended')\n",
    "        tweet_id.append(ids)\n",
    "        retweet_count.append(tweet.retweet_count)\n",
    "        favorite_count.append(tweet.favorite_count)\n",
    "    except Exception as e:\n",
    "        print(str(e))\n",
    "        \n",
    "end = timer()\n",
    "print(end - start)    "
   ]
  },
  {
   "cell_type": "code",
   "execution_count": null,
   "metadata": {
    "collapsed": true
   },
   "outputs": [],
   "source": [
    "###\n",
    "file = open(\"tweet_json.txt\", \"w\")\n",
    "for index in range(len(tweet_id)):\n",
    "    file.write(str(tweet_id[index]) + \" \" + str(retweet_count[index]) + \" \" + str(favorite_count[index]) + \"\\n\")\n",
    "file.close()"
   ]
  },
  {
   "cell_type": "code",
   "execution_count": 4,
   "metadata": {
    "collapsed": true
   },
   "outputs": [],
   "source": [
    "info = pd.read_csv('tweet_json.txt', sep=\" \", header=None)\n",
    "info.columns = ['tweet_id','retweet_count','favorite_count']"
   ]
  },
  {
   "cell_type": "markdown",
   "metadata": {},
   "source": [
    "## Assess"
   ]
  },
  {
   "cell_type": "code",
   "execution_count": null,
   "metadata": {
    "collapsed": false,
    "scrolled": true
   },
   "outputs": [],
   "source": [
    "tweet.head(10)"
   ]
  },
  {
   "cell_type": "code",
   "execution_count": null,
   "metadata": {
    "collapsed": false
   },
   "outputs": [],
   "source": [
    "image.head(10)"
   ]
  },
  {
   "cell_type": "code",
   "execution_count": null,
   "metadata": {
    "collapsed": false
   },
   "outputs": [],
   "source": [
    "info.head(10)"
   ]
  },
  {
   "cell_type": "code",
   "execution_count": null,
   "metadata": {
    "collapsed": false,
    "scrolled": true
   },
   "outputs": [],
   "source": [
    "tweet.info()"
   ]
  },
  {
   "cell_type": "code",
   "execution_count": null,
   "metadata": {
    "collapsed": false
   },
   "outputs": [],
   "source": [
    "image.info()"
   ]
  },
  {
   "cell_type": "code",
   "execution_count": null,
   "metadata": {
    "collapsed": false
   },
   "outputs": [],
   "source": [
    "info.info()"
   ]
  },
  {
   "cell_type": "code",
   "execution_count": null,
   "metadata": {
    "collapsed": false
   },
   "outputs": [],
   "source": [
    "all_columns = pd.Series(list(tweet) + list(image) + list(info))\n",
    "all_columns[all_columns.duplicated()]"
   ]
  },
  {
   "cell_type": "code",
   "execution_count": null,
   "metadata": {
    "collapsed": false
   },
   "outputs": [],
   "source": [
    "list(tweet)"
   ]
  },
  {
   "cell_type": "code",
   "execution_count": null,
   "metadata": {
    "collapsed": false
   },
   "outputs": [],
   "source": [
    "list(image)"
   ]
  },
  {
   "cell_type": "code",
   "execution_count": null,
   "metadata": {
    "collapsed": false,
    "scrolled": true
   },
   "outputs": [],
   "source": [
    "tweet[tweet['expanded_urls'].isnull()]"
   ]
  },
  {
   "cell_type": "code",
   "execution_count": null,
   "metadata": {
    "collapsed": false,
    "scrolled": true
   },
   "outputs": [],
   "source": [
    "tweet.describe()"
   ]
  },
  {
   "cell_type": "code",
   "execution_count": null,
   "metadata": {
    "collapsed": false
   },
   "outputs": [],
   "source": [
    "image.describe()"
   ]
  },
  {
   "cell_type": "code",
   "execution_count": null,
   "metadata": {
    "collapsed": false
   },
   "outputs": [],
   "source": [
    "info.describe()"
   ]
  },
  {
   "cell_type": "code",
   "execution_count": null,
   "metadata": {
    "collapsed": false,
    "scrolled": true
   },
   "outputs": [],
   "source": [
    "tweet.sample(5)"
   ]
  },
  {
   "cell_type": "code",
   "execution_count": null,
   "metadata": {
    "collapsed": false,
    "scrolled": true
   },
   "outputs": [],
   "source": [
    "tweet.name.value_counts()"
   ]
  },
  {
   "cell_type": "code",
   "execution_count": null,
   "metadata": {
    "collapsed": false,
    "scrolled": true
   },
   "outputs": [],
   "source": [
    "tweet.source.value_counts()"
   ]
  },
  {
   "cell_type": "code",
   "execution_count": null,
   "metadata": {
    "collapsed": false
   },
   "outputs": [],
   "source": [
    "image.jpg_url.value_counts()"
   ]
  },
  {
   "cell_type": "code",
   "execution_count": null,
   "metadata": {
    "collapsed": false,
    "scrolled": true
   },
   "outputs": [],
   "source": [
    "tweet[tweet.name.duplicated()]"
   ]
  },
  {
   "cell_type": "code",
   "execution_count": null,
   "metadata": {
    "collapsed": false,
    "scrolled": true
   },
   "outputs": [],
   "source": [
    "tweet.rating_numerator.sort_values()"
   ]
  },
  {
   "cell_type": "code",
   "execution_count": null,
   "metadata": {
    "collapsed": false
   },
   "outputs": [],
   "source": [
    "tweet.rating_denominator.sort_values()"
   ]
  },
  {
   "cell_type": "code",
   "execution_count": null,
   "metadata": {
    "collapsed": false
   },
   "outputs": [],
   "source": [
    "len(tweet[(tweet['doggo'] == 'doggo')]) + len(tweet[(tweet['floofer'] == 'floofer')])  + len(tweet[(tweet['pupper'] == 'pupper')]) \n",
    "+ len(tweet[(tweet['puppo'] == 'puppo')]) "
   ]
  },
  {
   "cell_type": "markdown",
   "metadata": {},
   "source": [
    "#### Quality\n",
    "##### `tweet` table\n",
    "- in_reply_to_status_id, in_reply_to_user_id, retweeted_status_id, and retweeted_status_user_id are int not float\n",
    "- Erroneous datatypes (retweeted_status_timestamp, timestamp, text, and source columns) \n",
    "- source has four categories\n",
    "- name sometimes lower case, captial letter other times\n",
    "- Missing expanded_urls (2297 instead of 2356)\n",
    "- Missing in_reply_to_status_id and in_reply_to_user_id (78 instead of 2356)\n",
    "- Missing retweeted_status_id, retweeted_status_id, retweeted_status_id (181 instead of 2356)\n",
    "- actually, by, his, my, one, the, very are not dog name\n",
    "- Multiple records for 'a, an' as a name\n",
    "- Some rating_numerator and rating_denominator are extremely high\n",
    "- Some rows have rating_numerator and rating_denominator but do not have expanded_urls\n",
    "\n",
    "##### `image` table\n",
    "- Duplicates in jpg_url\n",
    "- Lowercase p1, p2, p3\n",
    "- Missing records (2075 instead of 2356)\n",
    "\n",
    "##### `info` table\n",
    "- Missing records (2069 instead of 2075)"
   ]
  },
  {
   "cell_type": "markdown",
   "metadata": {},
   "source": [
    "#### Tidiness\n",
    "- Merge doggo, pupper, puppo, and floofer columns into one column in `tweet` table\n",
    "- `info` table and `image` table should be part of the `tweet` table"
   ]
  },
  {
   "cell_type": "markdown",
   "metadata": {},
   "source": [
    "## Clean"
   ]
  },
  {
   "cell_type": "code",
   "execution_count": 5,
   "metadata": {
    "collapsed": false
   },
   "outputs": [],
   "source": [
    "tweet_clean = tweet.copy()\n",
    "image_clean = image.copy()\n",
    "info_clean = info.copy()"
   ]
  },
  {
   "cell_type": "markdown",
   "metadata": {},
   "source": [
    "### Missing Data"
   ]
  },
  {
   "cell_type": "markdown",
   "metadata": {},
   "source": [
    "#### `tweet`: Missing expanded_urls (2297 instead of 2356), Missing in_reply_to_status_id and in_reply_to_user_id (78 instead of 2356), Missing retweeted_status_id, retweeted_status_id, retweeted_status_id (181 instead of 2356)"
   ]
  },
  {
   "cell_type": "markdown",
   "metadata": {},
   "source": [
    "##### Define\n",
    "- Remove tweets that don't have image url\n",
    "- Remove replied tweets\n",
    "- Remove retweets"
   ]
  },
  {
   "cell_type": "markdown",
   "metadata": {},
   "source": [
    "##### Code"
   ]
  },
  {
   "cell_type": "code",
   "execution_count": 6,
   "metadata": {
    "collapsed": false,
    "scrolled": true
   },
   "outputs": [],
   "source": [
    "tweet_clean = tweet_clean[~tweet_clean.expanded_urls.isnull()]"
   ]
  },
  {
   "cell_type": "markdown",
   "metadata": {},
   "source": [
    "##### Test"
   ]
  },
  {
   "cell_type": "code",
   "execution_count": null,
   "metadata": {
    "collapsed": false,
    "scrolled": true
   },
   "outputs": [],
   "source": [
    "tweet_clean.head()"
   ]
  },
  {
   "cell_type": "markdown",
   "metadata": {},
   "source": [
    "##### Code"
   ]
  },
  {
   "cell_type": "code",
   "execution_count": 7,
   "metadata": {
    "collapsed": false
   },
   "outputs": [],
   "source": [
    "tweet_clean = tweet_clean[tweet_clean['in_reply_to_status_id'].isnull()]"
   ]
  },
  {
   "cell_type": "markdown",
   "metadata": {},
   "source": [
    "##### Test"
   ]
  },
  {
   "cell_type": "code",
   "execution_count": null,
   "metadata": {
    "collapsed": false
   },
   "outputs": [],
   "source": [
    "len(tweet_clean)"
   ]
  },
  {
   "cell_type": "markdown",
   "metadata": {},
   "source": [
    "##### Code"
   ]
  },
  {
   "cell_type": "code",
   "execution_count": 8,
   "metadata": {
    "collapsed": true
   },
   "outputs": [],
   "source": [
    "tweet_clean = tweet_clean[tweet_clean['retweeted_status_id'].isnull()]"
   ]
  },
  {
   "cell_type": "markdown",
   "metadata": {},
   "source": [
    "##### Test"
   ]
  },
  {
   "cell_type": "code",
   "execution_count": null,
   "metadata": {
    "collapsed": false
   },
   "outputs": [],
   "source": [
    "len(tweet_clean)"
   ]
  },
  {
   "cell_type": "markdown",
   "metadata": {},
   "source": [
    "##### Code"
   ]
  },
  {
   "cell_type": "code",
   "execution_count": 9,
   "metadata": {
    "collapsed": true
   },
   "outputs": [],
   "source": [
    "drop_columns = ['in_reply_to_status_id', 'in_reply_to_user_id', 'retweeted_status_id', \n",
    "                'retweeted_status_user_id', 'retweeted_status_timestamp']\n",
    "\n",
    "tweet_clean = tweet_clean.drop(labels = drop_columns, axis = 1)"
   ]
  },
  {
   "cell_type": "markdown",
   "metadata": {},
   "source": [
    "##### Test"
   ]
  },
  {
   "cell_type": "code",
   "execution_count": null,
   "metadata": {
    "collapsed": false
   },
   "outputs": [],
   "source": [
    "tweet_clean.head()"
   ]
  },
  {
   "cell_type": "markdown",
   "metadata": {},
   "source": [
    "### Quality"
   ]
  },
  {
   "cell_type": "markdown",
   "metadata": {},
   "source": [
    "#### `tweet`: Erroneous datatypes (tweet_id, timestamp, text, and source columns) , Source has four categories"
   ]
  },
  {
   "cell_type": "markdown",
   "metadata": {},
   "source": [
    "##### Define\n",
    "- Change tweet_id to int data type\n",
    "- Change timestamp to date data type\n",
    "- Change text to string data type\n",
    "- Change source to category data type\n",
    "- Replace the four category source with short version"
   ]
  },
  {
   "cell_type": "markdown",
   "metadata": {},
   "source": [
    "##### Code"
   ]
  },
  {
   "cell_type": "code",
   "execution_count": 10,
   "metadata": {
    "collapsed": false
   },
   "outputs": [],
   "source": [
    "tweet_clean.tweet_id = tweet_clean.tweet_id.astype(int) \n",
    "tweet_clean.text = tweet_clean.text.astype(str)\n",
    "tweet_clean.source = tweet_clean.source.astype('category')\n",
    "tweet_clean.timestamp = pd.to_datetime(tweet_clean.timestamp)"
   ]
  },
  {
   "cell_type": "code",
   "execution_count": 11,
   "metadata": {
    "collapsed": true
   },
   "outputs": [],
   "source": [
    "tweet_clean.source = tweet_clean.source.replace('<a href=\"http://twitter.com/download/iphone\" rel=\"nofollow\">Twitter for iPhone</a>', 'Twitter for iPhone')\n",
    "tweet_clean.source = tweet_clean.source.replace('<a href=\"http://vine.co\" rel=\"nofollow\">Vine - Make a Scene</a>', 'Vine Make a Scene')\n",
    "tweet_clean.source = tweet_clean.source.replace('<a href=\"http://twitter.com\" rel=\"nofollow\">Twitter Web Client</a>', 'Twitter Web Client')\n",
    "tweet_clean.source = tweet_clean.source.replace('<a href=\"https://about.twitter.com/products/tweetdeck\" rel=\"nofollow\">TweetDeck</a>', 'Tweet Deck')"
   ]
  },
  {
   "cell_type": "markdown",
   "metadata": {},
   "source": [
    "##### Test"
   ]
  },
  {
   "cell_type": "code",
   "execution_count": null,
   "metadata": {
    "collapsed": false,
    "scrolled": true
   },
   "outputs": [],
   "source": [
    "tweet_clean.info()"
   ]
  },
  {
   "cell_type": "code",
   "execution_count": null,
   "metadata": {
    "collapsed": false
   },
   "outputs": [],
   "source": [
    "tweet_clean.head()"
   ]
  },
  {
   "cell_type": "markdown",
   "metadata": {},
   "source": [
    "#### `tweet`: Some rating_numerator and rating_denominator are extremely high"
   ]
  },
  {
   "cell_type": "markdown",
   "metadata": {},
   "source": [
    "##### Define\n",
    "- Calculate the rate based on rating_numerator divide rating_denominator\n",
    "- Remove the rates greater than 2.0"
   ]
  },
  {
   "cell_type": "markdown",
   "metadata": {},
   "source": [
    "##### Code"
   ]
  },
  {
   "cell_type": "code",
   "execution_count": 12,
   "metadata": {
    "collapsed": true
   },
   "outputs": [],
   "source": [
    "tweet_clean['rating'] = tweet_clean.rating_numerator / tweet_clean.rating_denominator"
   ]
  },
  {
   "cell_type": "code",
   "execution_count": null,
   "metadata": {
    "collapsed": false
   },
   "outputs": [],
   "source": [
    "for dog_rate in tweet_clean.rate:\n",
    "    if dog_rate > 2.0:\n",
    "        print(dog_rate)"
   ]
  },
  {
   "cell_type": "code",
   "execution_count": 13,
   "metadata": {
    "collapsed": false
   },
   "outputs": [],
   "source": [
    "tweet_clean = tweet_clean[tweet_clean.rating < 2]"
   ]
  },
  {
   "cell_type": "code",
   "execution_count": 14,
   "metadata": {
    "collapsed": false
   },
   "outputs": [],
   "source": [
    "tweet_clean = tweet_clean.drop(['rating_numerator', 'rating_denominator'], axis=1)"
   ]
  },
  {
   "cell_type": "markdown",
   "metadata": {},
   "source": [
    "##### Test"
   ]
  },
  {
   "cell_type": "code",
   "execution_count": null,
   "metadata": {
    "collapsed": false
   },
   "outputs": [],
   "source": [
    "tweet_clean.rate.sort_values()"
   ]
  },
  {
   "cell_type": "markdown",
   "metadata": {},
   "source": [
    "#### `tweet`: Multiple records for 'a, an' as a name, 'actually, by, his, my, one, the, very' are not dog name"
   ]
  },
  {
   "cell_type": "markdown",
   "metadata": {},
   "source": [
    "##### Define\n",
    "- Filter the text column to check if 'a','an', etc have corresponding name\n",
    "- If not, change the name to 'None'"
   ]
  },
  {
   "cell_type": "markdown",
   "metadata": {},
   "source": [
    "##### Code"
   ]
  },
  {
   "cell_type": "code",
   "execution_count": 15,
   "metadata": {
    "collapsed": true
   },
   "outputs": [],
   "source": [
    "Exception_names = ['a', 'an','actually', 'by', 'his', 'my', 'one', 'the', 'very', 'such','getting', 'world', 'mad']"
   ]
  },
  {
   "cell_type": "code",
   "execution_count": 16,
   "metadata": {
    "collapsed": false
   },
   "outputs": [],
   "source": [
    "for names in tweet_clean.name:\n",
    "    if names in Exception_names:\n",
    "            tweet_clean['new_text'] = tweet_clean['text'].loc[tweet_clean['name'] == names]"
   ]
  },
  {
   "cell_type": "code",
   "execution_count": 17,
   "metadata": {
    "collapsed": false
   },
   "outputs": [
    {
     "name": "stderr",
     "output_type": "stream",
     "text": [
      "/Users/Miyal/anaconda/lib/python2.7/site-packages/ipykernel/__main__.py:2: FutureWarning: currently extract(expand=None) means expand=False (return Index/Series/DataFrame) but in a future version of pandas this will be changed to expand=True (return DataFrame)\n",
      "  from ipykernel import kernelapp as app\n"
     ]
    }
   ],
   "source": [
    "# tweet_clean['new_text'][~tweet_clean['new_text'].isnull()]\n",
    "tweet_clean['new_text'] = tweet_clean['new_text'].str.extract('\\is (?:a|an|the) (.*?)\\.').str.split().str[-1]"
   ]
  },
  {
   "cell_type": "code",
   "execution_count": 18,
   "metadata": {
    "collapsed": false
   },
   "outputs": [],
   "source": [
    "tweet_clean['new_text'] = tweet_clean['new_text'].fillna(tweet_clean['name'])"
   ]
  },
  {
   "cell_type": "code",
   "execution_count": 19,
   "metadata": {
    "collapsed": false
   },
   "outputs": [
    {
     "name": "stderr",
     "output_type": "stream",
     "text": [
      "/Users/Miyal/anaconda/lib/python2.7/site-packages/ipykernel/__main__.py:1: SettingWithCopyWarning: \n",
      "A value is trying to be set on a copy of a slice from a DataFrame\n",
      "\n",
      "See the caveats in the documentation: http://pandas.pydata.org/pandas-docs/stable/indexing.html#indexing-view-versus-copy\n",
      "  if __name__ == '__main__':\n",
      "/Users/Miyal/anaconda/lib/python2.7/site-packages/ipykernel/__main__.py:2: SettingWithCopyWarning: \n",
      "A value is trying to be set on a copy of a slice from a DataFrame\n",
      "\n",
      "See the caveats in the documentation: http://pandas.pydata.org/pandas-docs/stable/indexing.html#indexing-view-versus-copy\n",
      "  from ipykernel import kernelapp as app\n",
      "/Users/Miyal/anaconda/lib/python2.7/site-packages/ipykernel/__main__.py:3: SettingWithCopyWarning: \n",
      "A value is trying to be set on a copy of a slice from a DataFrame\n",
      "\n",
      "See the caveats in the documentation: http://pandas.pydata.org/pandas-docs/stable/indexing.html#indexing-view-versus-copy\n",
      "  app.launch_new_instance()\n",
      "/Users/Miyal/anaconda/lib/python2.7/site-packages/ipykernel/__main__.py:4: SettingWithCopyWarning: \n",
      "A value is trying to be set on a copy of a slice from a DataFrame\n",
      "\n",
      "See the caveats in the documentation: http://pandas.pydata.org/pandas-docs/stable/indexing.html#indexing-view-versus-copy\n",
      "/Users/Miyal/anaconda/lib/python2.7/site-packages/ipykernel/__main__.py:5: SettingWithCopyWarning: \n",
      "A value is trying to be set on a copy of a slice from a DataFrame\n",
      "\n",
      "See the caveats in the documentation: http://pandas.pydata.org/pandas-docs/stable/indexing.html#indexing-view-versus-copy\n",
      "/Users/Miyal/anaconda/lib/python2.7/site-packages/ipykernel/__main__.py:6: SettingWithCopyWarning: \n",
      "A value is trying to be set on a copy of a slice from a DataFrame\n",
      "\n",
      "See the caveats in the documentation: http://pandas.pydata.org/pandas-docs/stable/indexing.html#indexing-view-versus-copy\n",
      "/Users/Miyal/anaconda/lib/python2.7/site-packages/ipykernel/__main__.py:7: SettingWithCopyWarning: \n",
      "A value is trying to be set on a copy of a slice from a DataFrame\n",
      "\n",
      "See the caveats in the documentation: http://pandas.pydata.org/pandas-docs/stable/indexing.html#indexing-view-versus-copy\n",
      "/Users/Miyal/anaconda/lib/python2.7/site-packages/ipykernel/__main__.py:8: SettingWithCopyWarning: \n",
      "A value is trying to be set on a copy of a slice from a DataFrame\n",
      "\n",
      "See the caveats in the documentation: http://pandas.pydata.org/pandas-docs/stable/indexing.html#indexing-view-versus-copy\n",
      "/Users/Miyal/anaconda/lib/python2.7/site-packages/ipykernel/__main__.py:9: SettingWithCopyWarning: \n",
      "A value is trying to be set on a copy of a slice from a DataFrame\n",
      "\n",
      "See the caveats in the documentation: http://pandas.pydata.org/pandas-docs/stable/indexing.html#indexing-view-versus-copy\n",
      "/Users/Miyal/anaconda/lib/python2.7/site-packages/ipykernel/__main__.py:10: SettingWithCopyWarning: \n",
      "A value is trying to be set on a copy of a slice from a DataFrame\n",
      "\n",
      "See the caveats in the documentation: http://pandas.pydata.org/pandas-docs/stable/indexing.html#indexing-view-versus-copy\n",
      "/Users/Miyal/anaconda/lib/python2.7/site-packages/ipykernel/__main__.py:11: SettingWithCopyWarning: \n",
      "A value is trying to be set on a copy of a slice from a DataFrame\n",
      "\n",
      "See the caveats in the documentation: http://pandas.pydata.org/pandas-docs/stable/indexing.html#indexing-view-versus-copy\n",
      "/Users/Miyal/anaconda/lib/python2.7/site-packages/ipykernel/__main__.py:12: SettingWithCopyWarning: \n",
      "A value is trying to be set on a copy of a slice from a DataFrame\n",
      "\n",
      "See the caveats in the documentation: http://pandas.pydata.org/pandas-docs/stable/indexing.html#indexing-view-versus-copy\n",
      "/Users/Miyal/anaconda/lib/python2.7/site-packages/ipykernel/__main__.py:13: SettingWithCopyWarning: \n",
      "A value is trying to be set on a copy of a slice from a DataFrame\n",
      "\n",
      "See the caveats in the documentation: http://pandas.pydata.org/pandas-docs/stable/indexing.html#indexing-view-versus-copy\n",
      "/Users/Miyal/anaconda/lib/python2.7/site-packages/ipykernel/__main__.py:14: SettingWithCopyWarning: \n",
      "A value is trying to be set on a copy of a slice from a DataFrame\n",
      "\n",
      "See the caveats in the documentation: http://pandas.pydata.org/pandas-docs/stable/indexing.html#indexing-view-versus-copy\n",
      "/Users/Miyal/anaconda/lib/python2.7/site-packages/ipykernel/__main__.py:15: SettingWithCopyWarning: \n",
      "A value is trying to be set on a copy of a slice from a DataFrame\n",
      "\n",
      "See the caveats in the documentation: http://pandas.pydata.org/pandas-docs/stable/indexing.html#indexing-view-versus-copy\n",
      "/Users/Miyal/anaconda/lib/python2.7/site-packages/ipykernel/__main__.py:16: SettingWithCopyWarning: \n",
      "A value is trying to be set on a copy of a slice from a DataFrame\n",
      "\n",
      "See the caveats in the documentation: http://pandas.pydata.org/pandas-docs/stable/indexing.html#indexing-view-versus-copy\n",
      "/Users/Miyal/anaconda/lib/python2.7/site-packages/ipykernel/__main__.py:17: SettingWithCopyWarning: \n",
      "A value is trying to be set on a copy of a slice from a DataFrame\n",
      "\n",
      "See the caveats in the documentation: http://pandas.pydata.org/pandas-docs/stable/indexing.html#indexing-view-versus-copy\n",
      "/Users/Miyal/anaconda/lib/python2.7/site-packages/ipykernel/__main__.py:18: SettingWithCopyWarning: \n",
      "A value is trying to be set on a copy of a slice from a DataFrame\n",
      "\n",
      "See the caveats in the documentation: http://pandas.pydata.org/pandas-docs/stable/indexing.html#indexing-view-versus-copy\n",
      "/Users/Miyal/anaconda/lib/python2.7/site-packages/ipykernel/__main__.py:19: SettingWithCopyWarning: \n",
      "A value is trying to be set on a copy of a slice from a DataFrame\n",
      "\n",
      "See the caveats in the documentation: http://pandas.pydata.org/pandas-docs/stable/indexing.html#indexing-view-versus-copy\n",
      "/Users/Miyal/anaconda/lib/python2.7/site-packages/ipykernel/__main__.py:20: SettingWithCopyWarning: \n",
      "A value is trying to be set on a copy of a slice from a DataFrame\n",
      "\n",
      "See the caveats in the documentation: http://pandas.pydata.org/pandas-docs/stable/indexing.html#indexing-view-versus-copy\n",
      "/Users/Miyal/anaconda/lib/python2.7/site-packages/ipykernel/__main__.py:21: SettingWithCopyWarning: \n",
      "A value is trying to be set on a copy of a slice from a DataFrame\n",
      "\n",
      "See the caveats in the documentation: http://pandas.pydata.org/pandas-docs/stable/indexing.html#indexing-view-versus-copy\n",
      "/Users/Miyal/anaconda/lib/python2.7/site-packages/ipykernel/__main__.py:22: SettingWithCopyWarning: \n",
      "A value is trying to be set on a copy of a slice from a DataFrame\n",
      "\n",
      "See the caveats in the documentation: http://pandas.pydata.org/pandas-docs/stable/indexing.html#indexing-view-versus-copy\n",
      "/Users/Miyal/anaconda/lib/python2.7/site-packages/ipykernel/__main__.py:23: SettingWithCopyWarning: \n",
      "A value is trying to be set on a copy of a slice from a DataFrame\n",
      "\n",
      "See the caveats in the documentation: http://pandas.pydata.org/pandas-docs/stable/indexing.html#indexing-view-versus-copy\n",
      "/Users/Miyal/anaconda/lib/python2.7/site-packages/ipykernel/__main__.py:24: SettingWithCopyWarning: \n",
      "A value is trying to be set on a copy of a slice from a DataFrame\n",
      "\n",
      "See the caveats in the documentation: http://pandas.pydata.org/pandas-docs/stable/indexing.html#indexing-view-versus-copy\n",
      "/Users/Miyal/anaconda/lib/python2.7/site-packages/ipykernel/__main__.py:25: SettingWithCopyWarning: \n",
      "A value is trying to be set on a copy of a slice from a DataFrame\n",
      "\n",
      "See the caveats in the documentation: http://pandas.pydata.org/pandas-docs/stable/indexing.html#indexing-view-versus-copy\n",
      "/Users/Miyal/anaconda/lib/python2.7/site-packages/ipykernel/__main__.py:26: SettingWithCopyWarning: \n",
      "A value is trying to be set on a copy of a slice from a DataFrame\n",
      "\n",
      "See the caveats in the documentation: http://pandas.pydata.org/pandas-docs/stable/indexing.html#indexing-view-versus-copy\n",
      "/Users/Miyal/anaconda/lib/python2.7/site-packages/ipykernel/__main__.py:27: SettingWithCopyWarning: \n",
      "A value is trying to be set on a copy of a slice from a DataFrame\n",
      "\n",
      "See the caveats in the documentation: http://pandas.pydata.org/pandas-docs/stable/indexing.html#indexing-view-versus-copy\n",
      "/Users/Miyal/anaconda/lib/python2.7/site-packages/ipykernel/__main__.py:28: SettingWithCopyWarning: \n",
      "A value is trying to be set on a copy of a slice from a DataFrame\n",
      "\n",
      "See the caveats in the documentation: http://pandas.pydata.org/pandas-docs/stable/indexing.html#indexing-view-versus-copy\n",
      "/Users/Miyal/anaconda/lib/python2.7/site-packages/ipykernel/__main__.py:29: SettingWithCopyWarning: \n",
      "A value is trying to be set on a copy of a slice from a DataFrame\n",
      "\n",
      "See the caveats in the documentation: http://pandas.pydata.org/pandas-docs/stable/indexing.html#indexing-view-versus-copy\n",
      "/Users/Miyal/anaconda/lib/python2.7/site-packages/ipykernel/__main__.py:30: SettingWithCopyWarning: \n",
      "A value is trying to be set on a copy of a slice from a DataFrame\n",
      "\n",
      "See the caveats in the documentation: http://pandas.pydata.org/pandas-docs/stable/indexing.html#indexing-view-versus-copy\n",
      "/Users/Miyal/anaconda/lib/python2.7/site-packages/ipykernel/__main__.py:31: SettingWithCopyWarning: \n",
      "A value is trying to be set on a copy of a slice from a DataFrame\n",
      "\n",
      "See the caveats in the documentation: http://pandas.pydata.org/pandas-docs/stable/indexing.html#indexing-view-versus-copy\n",
      "/Users/Miyal/anaconda/lib/python2.7/site-packages/ipykernel/__main__.py:32: SettingWithCopyWarning: \n",
      "A value is trying to be set on a copy of a slice from a DataFrame\n",
      "\n",
      "See the caveats in the documentation: http://pandas.pydata.org/pandas-docs/stable/indexing.html#indexing-view-versus-copy\n",
      "/Users/Miyal/anaconda/lib/python2.7/site-packages/ipykernel/__main__.py:33: SettingWithCopyWarning: \n",
      "A value is trying to be set on a copy of a slice from a DataFrame\n",
      "\n",
      "See the caveats in the documentation: http://pandas.pydata.org/pandas-docs/stable/indexing.html#indexing-view-versus-copy\n"
     ]
    }
   ],
   "source": [
    "tweet_clean.new_text[1527] = tweet_clean.new_text[1527].replace('the', 'lobster')\n",
    "tweet_clean.new_text[1603] = tweet_clean.new_text[1603].replace('the', 'pupper')\n",
    "tweet_clean.new_text[1797] = tweet_clean.new_text[1797].replace('the', 'pupper')\n",
    "tweet_clean.new_text[1815] = tweet_clean.new_text[1815].replace('the', 'None')\n",
    "tweet_clean.new_text[2037] = tweet_clean.new_text[2037].replace('the', 'None')\n",
    "tweet_clean.new_text[2212] = tweet_clean.new_text[2212].replace('the', 'vine')\n",
    "tweet_clean.new_text[1146] = tweet_clean.new_text[1146].replace('just', 'pupper')\n",
    "tweet_clean.new_text[1457] = tweet_clean.new_text[1457].replace('just', 'pupper')\n",
    "tweet_clean.new_text[2019] = tweet_clean.new_text[2019].replace('just', 'None')\n",
    "tweet_clean.new_text[1138] = tweet_clean.new_text[1138].replace('all', 'pupper')\n",
    "tweet_clean.new_text[1025] = tweet_clean.new_text[1025].replace('an', 'Kangaroo')\n",
    "tweet_clean.new_text[1362] = tweet_clean.new_text[1362].replace('an', 'Seal')\n",
    "tweet_clean.new_text[2204] = tweet_clean.new_text[2204].replace('an', 'Berta')\n",
    "tweet_clean.new_text[1724] = tweet_clean.new_text[1724].replace('by', 'None')\n",
    "tweet_clean.new_text[1071] = tweet_clean.new_text[1071].replace('getting', 'Beaver')\n",
    "tweet_clean.new_text[992] = tweet_clean.new_text[992].replace('his', 'Quizno')\n",
    "tweet_clean.new_text[1095] = tweet_clean.new_text[1095].replace('mad', 'pupper')\n",
    "tweet_clean.new_text[1897] = tweet_clean.new_text[1897].replace('mix', 'Columbia')\n",
    "tweet_clean.new_text[1923] = tweet_clean.new_text[1923].replace('mix', 'Baklava')\n",
    "tweet_clean.new_text[852] = tweet_clean.new_text[852].replace('my', 'Zoey')\n",
    "tweet_clean.new_text[1120] = tweet_clean.new_text[1120].replace('this', 'doggo')\n",
    "tweet_clean.new_text[819] = tweet_clean.new_text[819].replace('very', 'Kangaroo')\n",
    "tweet_clean.new_text[1031] = tweet_clean.new_text[1031].replace('very', 'Seal')\n",
    "tweet_clean.new_text[1097] = tweet_clean.new_text[1097].replace('very', 'Turtle')\n",
    "tweet_clean.new_text[1385] = tweet_clean.new_text[1385].replace('very', 'snake')\n",
    "tweet_clean.new_text[1382] = tweet_clean.new_text[1382].replace('world', 'pupper')\n",
    "tweet_clean.new_text[2333] = tweet_clean.new_text[2333].replace('an', 'Parthenon')\n",
    "tweet_clean.new_text[2335] = tweet_clean.new_text[2335].replace('an', 'Episcopalian')\n",
    "tweet_clean.new_text[2345] = tweet_clean.new_text[2345].replace('the', 'dog')\n",
    "tweet_clean.new_text[2346] = tweet_clean.new_text[2346].replace('the', 'Paul')\n",
    "tweet_clean.new_text[2347] = tweet_clean.new_text[2347].replace('wheels', 'terrier')\n",
    "tweet_clean.new_text[2348] = tweet_clean.new_text[2348].replace('mix', 'bear')\n",
    "tweet_clean.new_text[2349] = tweet_clean.new_text[2349].replace('an', 'dog')"
   ]
  },
  {
   "cell_type": "code",
   "execution_count": 20,
   "metadata": {
    "collapsed": false
   },
   "outputs": [],
   "source": [
    "tweet_clean.name = tweet_clean.new_text\n",
    "tweet_clean = tweet_clean.drop(['new_text'], axis=1)"
   ]
  },
  {
   "cell_type": "markdown",
   "metadata": {},
   "source": [
    "##### Test"
   ]
  },
  {
   "cell_type": "code",
   "execution_count": 21,
   "metadata": {
    "collapsed": false
   },
   "outputs": [
    {
     "data": {
      "text/plain": [
       "None         602\n",
       "Charlie       11\n",
       "Lucy          11\n",
       "Oliver        10\n",
       "Cooper        10\n",
       "Tucker         9\n",
       "Penny          9\n",
       "Sadie          8\n",
       "Winston        8\n",
       "Lola           8\n",
       "Toby           7\n",
       "Daisy          7\n",
       "Oscar          6\n",
       "Stanley        6\n",
       "dog            6\n",
       "Bo             6\n",
       "Jax            6\n",
       "Koda           6\n",
       "Bailey         6\n",
       "Bella          6\n",
       "pupper         6\n",
       "Rusty          5\n",
       "Buddy          5\n",
       "Dave           5\n",
       "Bentley        5\n",
       "Leo            5\n",
       "Milo           5\n",
       "Chester        5\n",
       "Scout          5\n",
       "Louis          5\n",
       "            ... \n",
       "Chadrick       1\n",
       "Berkeley       1\n",
       "Jonah          1\n",
       "Eazy           1\n",
       "Socks          1\n",
       "Laika          1\n",
       "Mollie         1\n",
       "Cermet         1\n",
       "Koko           1\n",
       "Sprinkles      1\n",
       "Atticus        1\n",
       "Stephan        1\n",
       "Clyde          1\n",
       "Livvie         1\n",
       "Brudge         1\n",
       "Lili           1\n",
       "Grizzie        1\n",
       "Teddy          1\n",
       "Steve          1\n",
       "Snoop          1\n",
       "Lenox          1\n",
       "Jeremy         1\n",
       "Philbert       1\n",
       "Zooey          1\n",
       "Todo           1\n",
       "Kanu           1\n",
       "Dawn           1\n",
       "Beaver         1\n",
       "Balto          1\n",
       "Opie           1\n",
       "Name: name, Length: 1002, dtype: int64"
      ]
     },
     "execution_count": 21,
     "metadata": {},
     "output_type": "execute_result"
    }
   ],
   "source": [
    "tweet_clean['name'].value_counts()"
   ]
  },
  {
   "cell_type": "markdown",
   "metadata": {},
   "source": [
    "#### `image`: Duplicates in jpg_url"
   ]
  },
  {
   "cell_type": "markdown",
   "metadata": {},
   "source": [
    "##### Define\n",
    "- Find the duplicates in jpg_url\n",
    "- Remove the duplicate rows"
   ]
  },
  {
   "cell_type": "markdown",
   "metadata": {},
   "source": [
    "##### Code"
   ]
  },
  {
   "cell_type": "code",
   "execution_count": 22,
   "metadata": {
    "collapsed": false
   },
   "outputs": [],
   "source": [
    "image_clean = image_clean[~image_clean.duplicated(['jpg_url'], keep=False)]"
   ]
  },
  {
   "cell_type": "markdown",
   "metadata": {},
   "source": [
    "##### Test"
   ]
  },
  {
   "cell_type": "code",
   "execution_count": null,
   "metadata": {
    "collapsed": false
   },
   "outputs": [],
   "source": [
    "image_clean.info()"
   ]
  },
  {
   "cell_type": "markdown",
   "metadata": {},
   "source": [
    "#### `tweet`: Name sometimes lower case, captial letter other times\n",
    "#### `image`: Lowercase p1, p2, p3"
   ]
  },
  {
   "cell_type": "markdown",
   "metadata": {},
   "source": [
    "##### Define\n",
    "- Lower case name column in 'tweet' table\n",
    "- Lower case p1, p2, p3 columns in 'image' table"
   ]
  },
  {
   "cell_type": "markdown",
   "metadata": {},
   "source": [
    "##### Code"
   ]
  },
  {
   "cell_type": "code",
   "execution_count": 23,
   "metadata": {
    "collapsed": true
   },
   "outputs": [],
   "source": [
    "tweet_clean['name'] = tweet_clean['name'].str.lower()\n",
    "image_clean['p1'] = image_clean['p1'].str.lower()\n",
    "image_clean['p2'] = image_clean['p2'].str.lower()\n",
    "image_clean['p3'] = image_clean['p3'].str.lower()"
   ]
  },
  {
   "cell_type": "markdown",
   "metadata": {},
   "source": [
    "##### Test"
   ]
  },
  {
   "cell_type": "code",
   "execution_count": null,
   "metadata": {
    "collapsed": false
   },
   "outputs": [],
   "source": [
    "tweet_clean.sample(5)"
   ]
  },
  {
   "cell_type": "code",
   "execution_count": null,
   "metadata": {
    "collapsed": false
   },
   "outputs": [],
   "source": [
    "image_clean.sample(5)"
   ]
  },
  {
   "cell_type": "markdown",
   "metadata": {},
   "source": [
    "### Tidiness"
   ]
  },
  {
   "cell_type": "markdown",
   "metadata": {},
   "source": [
    "#### Merge doggo, pupper, puppo, and floofer columns into one column in `tweet` table"
   ]
  },
  {
   "cell_type": "markdown",
   "metadata": {},
   "source": [
    "##### Define\n",
    "*Your definition here. Hint: use pandas' [melt function](https://pandas.pydata.org/pandas-docs/stable/generated/pandas.melt.html) and [`str.split()` method](https://pandas.pydata.org/pandas-docs/stable/generated/pandas.Series.str.split.html). Here is an excellent [`melt` tutorial](https://deparkes.co.uk/2016/10/28/reshape-pandas-data-with-melt/).*\n",
    "\n",
    "Melt the auralin and novodra columns to a treatment and a dose column (dose will still contain both start and end dose at this point). Then split the dose column on ' - ' to obtain start_dose and end_dose columns. Drop the intermediate dose column."
   ]
  },
  {
   "cell_type": "markdown",
   "metadata": {},
   "source": [
    "##### Code"
   ]
  },
  {
   "cell_type": "code",
   "execution_count": 24,
   "metadata": {
    "collapsed": true
   },
   "outputs": [],
   "source": [
    "def breed_concat(row):\n",
    "    breeds = []\n",
    "    breed_list = ['doggo', 'floofer', 'pupper', 'puppo']\n",
    "    \n",
    "    for breed in breed_list:\n",
    "        if row[breed] != 'None':\n",
    "            breeds.append(breed)\n",
    "\n",
    "    return ' '.join(sorted(breeds))\n",
    "\n",
    "tweet_clean['breed'] = tweet_clean[['doggo', 'floofer', 'pupper', 'puppo']].apply(breed_concat, axis=1)"
   ]
  },
  {
   "cell_type": "code",
   "execution_count": 25,
   "metadata": {
    "collapsed": false
   },
   "outputs": [],
   "source": [
    "tweet_clean = tweet_clean.drop(['doggo', 'floofer', 'pupper', 'puppo'], axis=1)"
   ]
  },
  {
   "cell_type": "code",
   "execution_count": 26,
   "metadata": {
    "collapsed": true
   },
   "outputs": [],
   "source": [
    "tweet_clean.breed = tweet_clean.breed.astype('category')"
   ]
  },
  {
   "cell_type": "markdown",
   "metadata": {},
   "source": [
    "##### Test"
   ]
  },
  {
   "cell_type": "code",
   "execution_count": 27,
   "metadata": {
    "collapsed": false,
    "scrolled": true
   },
   "outputs": [
    {
     "data": {
      "text/html": [
       "<div>\n",
       "<style>\n",
       "    .dataframe thead tr:only-child th {\n",
       "        text-align: right;\n",
       "    }\n",
       "\n",
       "    .dataframe thead th {\n",
       "        text-align: left;\n",
       "    }\n",
       "\n",
       "    .dataframe tbody tr th {\n",
       "        vertical-align: top;\n",
       "    }\n",
       "</style>\n",
       "<table border=\"1\" class=\"dataframe\">\n",
       "  <thead>\n",
       "    <tr style=\"text-align: right;\">\n",
       "      <th></th>\n",
       "      <th>tweet_id</th>\n",
       "      <th>timestamp</th>\n",
       "      <th>source</th>\n",
       "      <th>text</th>\n",
       "      <th>expanded_urls</th>\n",
       "      <th>name</th>\n",
       "      <th>rating</th>\n",
       "      <th>breed</th>\n",
       "    </tr>\n",
       "  </thead>\n",
       "  <tbody>\n",
       "    <tr>\n",
       "      <th>270</th>\n",
       "      <td>841314665196081154</td>\n",
       "      <td>2017-03-13 15:47:01</td>\n",
       "      <td>Twitter Web Client</td>\n",
       "      <td>This is Max. There's no way in h*ck you're tak...</td>\n",
       "      <td>https://twitter.com/dog_rates/status/841314665...</td>\n",
       "      <td>max</td>\n",
       "      <td>1.3</td>\n",
       "      <td></td>\n",
       "    </tr>\n",
       "    <tr>\n",
       "      <th>1947</th>\n",
       "      <td>673700254269775872</td>\n",
       "      <td>2015-12-07 03:07:12</td>\n",
       "      <td>Twitter for iPhone</td>\n",
       "      <td>Large blue dog here. Cool shades. Flipping us ...</td>\n",
       "      <td>https://twitter.com/dog_rates/status/673700254...</td>\n",
       "      <td>none</td>\n",
       "      <td>0.3</td>\n",
       "      <td></td>\n",
       "    </tr>\n",
       "    <tr>\n",
       "      <th>896</th>\n",
       "      <td>759099523532779520</td>\n",
       "      <td>2016-07-29 18:53:24</td>\n",
       "      <td>Twitter for iPhone</td>\n",
       "      <td>Meet Toby. He has a drinking problem. Inflatab...</td>\n",
       "      <td>https://twitter.com/dog_rates/status/759099523...</td>\n",
       "      <td>toby</td>\n",
       "      <td>0.7</td>\n",
       "      <td></td>\n",
       "    </tr>\n",
       "    <tr>\n",
       "      <th>947</th>\n",
       "      <td>752519690950500352</td>\n",
       "      <td>2016-07-11 15:07:30</td>\n",
       "      <td>Twitter for iPhone</td>\n",
       "      <td>Hopefully this puppo on a swing will help get ...</td>\n",
       "      <td>https://twitter.com/dog_rates/status/752519690...</td>\n",
       "      <td>none</td>\n",
       "      <td>1.1</td>\n",
       "      <td>puppo</td>\n",
       "    </tr>\n",
       "    <tr>\n",
       "      <th>650</th>\n",
       "      <td>792883833364439040</td>\n",
       "      <td>2016-10-31 00:20:11</td>\n",
       "      <td>Twitter for iPhone</td>\n",
       "      <td>This is Bailey. She's rather h*ckin hype for H...</td>\n",
       "      <td>https://twitter.com/dog_rates/status/792883833...</td>\n",
       "      <td>bailey</td>\n",
       "      <td>1.2</td>\n",
       "      <td></td>\n",
       "    </tr>\n",
       "    <tr>\n",
       "      <th>1828</th>\n",
       "      <td>676263575653122048</td>\n",
       "      <td>2015-12-14 04:52:55</td>\n",
       "      <td>Twitter for iPhone</td>\n",
       "      <td>All this pupper wanted to do was go skiing. No...</td>\n",
       "      <td>https://twitter.com/dog_rates/status/676263575...</td>\n",
       "      <td>none</td>\n",
       "      <td>1.0</td>\n",
       "      <td>pupper</td>\n",
       "    </tr>\n",
       "    <tr>\n",
       "      <th>750</th>\n",
       "      <td>779123168116150273</td>\n",
       "      <td>2016-09-23 01:00:13</td>\n",
       "      <td>Twitter for iPhone</td>\n",
       "      <td>This is Reggie. He hugs everyone he meets. 12/...</td>\n",
       "      <td>https://twitter.com/dog_rates/status/779123168...</td>\n",
       "      <td>reggie</td>\n",
       "      <td>1.2</td>\n",
       "      <td></td>\n",
       "    </tr>\n",
       "    <tr>\n",
       "      <th>1878</th>\n",
       "      <td>675047298674663426</td>\n",
       "      <td>2015-12-10 20:19:52</td>\n",
       "      <td>Twitter for iPhone</td>\n",
       "      <td>This is a fluffy albino Bacardi Columbia mix. ...</td>\n",
       "      <td>https://twitter.com/dog_rates/status/675047298...</td>\n",
       "      <td>mix</td>\n",
       "      <td>1.1</td>\n",
       "      <td></td>\n",
       "    </tr>\n",
       "    <tr>\n",
       "      <th>1144</th>\n",
       "      <td>727286334147182592</td>\n",
       "      <td>2016-05-02 23:59:09</td>\n",
       "      <td>Twitter for iPhone</td>\n",
       "      <td>I swear to god if we get sent another Blue Mad...</td>\n",
       "      <td>https://twitter.com/dog_rates/status/727286334...</td>\n",
       "      <td>none</td>\n",
       "      <td>0.9</td>\n",
       "      <td></td>\n",
       "    </tr>\n",
       "    <tr>\n",
       "      <th>921</th>\n",
       "      <td>756288534030475264</td>\n",
       "      <td>2016-07-22 00:43:32</td>\n",
       "      <td>Twitter for iPhone</td>\n",
       "      <td>Here's a heartwarming scene of a single father...</td>\n",
       "      <td>https://twitter.com/dog_rates/status/756288534...</td>\n",
       "      <td>none</td>\n",
       "      <td>1.2</td>\n",
       "      <td></td>\n",
       "    </tr>\n",
       "    <tr>\n",
       "      <th>1190</th>\n",
       "      <td>718234618122661888</td>\n",
       "      <td>2016-04-08 00:30:51</td>\n",
       "      <td>Twitter for iPhone</td>\n",
       "      <td>This is Suki. She was born with a blurry tail ...</td>\n",
       "      <td>https://twitter.com/dog_rates/status/718234618...</td>\n",
       "      <td>suki</td>\n",
       "      <td>1.1</td>\n",
       "      <td></td>\n",
       "    </tr>\n",
       "    <tr>\n",
       "      <th>511</th>\n",
       "      <td>811985624773361665</td>\n",
       "      <td>2016-12-22 17:23:53</td>\n",
       "      <td>Twitter for iPhone</td>\n",
       "      <td>Say hello to Ted. He accidentally opened the f...</td>\n",
       "      <td>https://twitter.com/dog_rates/status/811985624...</td>\n",
       "      <td>ted</td>\n",
       "      <td>1.1</td>\n",
       "      <td></td>\n",
       "    </tr>\n",
       "    <tr>\n",
       "      <th>1770</th>\n",
       "      <td>678341075375947776</td>\n",
       "      <td>2015-12-19 22:28:09</td>\n",
       "      <td>Twitter for iPhone</td>\n",
       "      <td>This pupper likes tape. 12/10 https://t.co/cSp...</td>\n",
       "      <td>https://twitter.com/dog_rates/status/678341075...</td>\n",
       "      <td>none</td>\n",
       "      <td>1.2</td>\n",
       "      <td>pupper</td>\n",
       "    </tr>\n",
       "    <tr>\n",
       "      <th>443</th>\n",
       "      <td>819347104292290561</td>\n",
       "      <td>2017-01-12 00:55:47</td>\n",
       "      <td>Twitter for iPhone</td>\n",
       "      <td>Say hello to Anna and Elsa. They fall asleep i...</td>\n",
       "      <td>https://twitter.com/dog_rates/status/819347104...</td>\n",
       "      <td>anna</td>\n",
       "      <td>1.2</td>\n",
       "      <td></td>\n",
       "    </tr>\n",
       "    <tr>\n",
       "      <th>1019</th>\n",
       "      <td>746790600704425984</td>\n",
       "      <td>2016-06-25 19:42:08</td>\n",
       "      <td>Twitter for iPhone</td>\n",
       "      <td>When you just can't resist... 10/10 topnotch t...</td>\n",
       "      <td>https://twitter.com/dog_rates/status/746790600...</td>\n",
       "      <td>none</td>\n",
       "      <td>1.0</td>\n",
       "      <td></td>\n",
       "    </tr>\n",
       "    <tr>\n",
       "      <th>1607</th>\n",
       "      <td>685663452032069632</td>\n",
       "      <td>2016-01-09 03:24:40</td>\n",
       "      <td>Twitter for iPhone</td>\n",
       "      <td>Meet Brooks. He's confused by the almighty bal...</td>\n",
       "      <td>https://twitter.com/dog_rates/status/685663452...</td>\n",
       "      <td>brooks</td>\n",
       "      <td>1.2</td>\n",
       "      <td></td>\n",
       "    </tr>\n",
       "    <tr>\n",
       "      <th>379</th>\n",
       "      <td>827653905312006145</td>\n",
       "      <td>2017-02-03 23:04:02</td>\n",
       "      <td>Twitter for iPhone</td>\n",
       "      <td>This is Boots. She doesn't know what to do wit...</td>\n",
       "      <td>https://twitter.com/dog_rates/status/827653905...</td>\n",
       "      <td>boots</td>\n",
       "      <td>1.2</td>\n",
       "      <td></td>\n",
       "    </tr>\n",
       "    <tr>\n",
       "      <th>233</th>\n",
       "      <td>847842811428974592</td>\n",
       "      <td>2017-03-31 16:07:33</td>\n",
       "      <td>Twitter for iPhone</td>\n",
       "      <td>This is Rontu. He is described as a pal, cuddl...</td>\n",
       "      <td>https://www.gofundme.com/help-save-rontu,https...</td>\n",
       "      <td>rontu</td>\n",
       "      <td>1.2</td>\n",
       "      <td></td>\n",
       "    </tr>\n",
       "    <tr>\n",
       "      <th>2276</th>\n",
       "      <td>667443425659232256</td>\n",
       "      <td>2015-11-19 20:44:47</td>\n",
       "      <td>Twitter for iPhone</td>\n",
       "      <td>Exotic dog here. Long neck. Weird paws. Obsess...</td>\n",
       "      <td>https://twitter.com/dog_rates/status/667443425...</td>\n",
       "      <td>none</td>\n",
       "      <td>0.6</td>\n",
       "      <td></td>\n",
       "    </tr>\n",
       "    <tr>\n",
       "      <th>1566</th>\n",
       "      <td>687841446767013888</td>\n",
       "      <td>2016-01-15 03:39:15</td>\n",
       "      <td>Vine Make a Scene</td>\n",
       "      <td>13/10 I can't stop watching this (vid by @k8ly...</td>\n",
       "      <td>https://vine.co/v/iOWwUPH1hrw</td>\n",
       "      <td>none</td>\n",
       "      <td>1.3</td>\n",
       "      <td></td>\n",
       "    </tr>\n",
       "    <tr>\n",
       "      <th>838</th>\n",
       "      <td>767500508068192258</td>\n",
       "      <td>2016-08-21 23:15:55</td>\n",
       "      <td>Twitter for iPhone</td>\n",
       "      <td>This is Louie. He's making quite a h*ckin mess...</td>\n",
       "      <td>https://twitter.com/dog_rates/status/767500508...</td>\n",
       "      <td>louie</td>\n",
       "      <td>1.2</td>\n",
       "      <td></td>\n",
       "    </tr>\n",
       "    <tr>\n",
       "      <th>87</th>\n",
       "      <td>875144289856114688</td>\n",
       "      <td>2017-06-15 00:13:52</td>\n",
       "      <td>Twitter for iPhone</td>\n",
       "      <td>Meet Nugget and Hank. Nugget took Hank's bone....</td>\n",
       "      <td>https://twitter.com/dog_rates/status/875144289...</td>\n",
       "      <td>nugget</td>\n",
       "      <td>1.3</td>\n",
       "      <td></td>\n",
       "    </tr>\n",
       "    <tr>\n",
       "      <th>2167</th>\n",
       "      <td>669359674819481600</td>\n",
       "      <td>2015-11-25 03:39:17</td>\n",
       "      <td>Twitter for iPhone</td>\n",
       "      <td>Meet Saydee. She's a Rochester  Ecclesiastical...</td>\n",
       "      <td>https://twitter.com/dog_rates/status/669359674...</td>\n",
       "      <td>saydee</td>\n",
       "      <td>1.1</td>\n",
       "      <td></td>\n",
       "    </tr>\n",
       "    <tr>\n",
       "      <th>1773</th>\n",
       "      <td>678255464182861824</td>\n",
       "      <td>2015-12-19 16:47:58</td>\n",
       "      <td>Twitter for iPhone</td>\n",
       "      <td>This is Jessifer. She is a Bismoth Teriyaki. F...</td>\n",
       "      <td>https://twitter.com/dog_rates/status/678255464...</td>\n",
       "      <td>jessifer</td>\n",
       "      <td>0.9</td>\n",
       "      <td></td>\n",
       "    </tr>\n",
       "    <tr>\n",
       "      <th>299</th>\n",
       "      <td>836989968035819520</td>\n",
       "      <td>2017-03-01 17:22:13</td>\n",
       "      <td>Twitter for iPhone</td>\n",
       "      <td>This is Mookie. He really enjoys shopping but ...</td>\n",
       "      <td>https://twitter.com/dog_rates/status/836989968...</td>\n",
       "      <td>mookie</td>\n",
       "      <td>1.2</td>\n",
       "      <td></td>\n",
       "    </tr>\n",
       "    <tr>\n",
       "      <th>1136</th>\n",
       "      <td>728387165835677696</td>\n",
       "      <td>2016-05-06 00:53:27</td>\n",
       "      <td>Twitter for iPhone</td>\n",
       "      <td>This is Enchilada (yes, that's her real name)....</td>\n",
       "      <td>https://twitter.com/dog_rates/status/728387165...</td>\n",
       "      <td>enchilada</td>\n",
       "      <td>1.2</td>\n",
       "      <td></td>\n",
       "    </tr>\n",
       "    <tr>\n",
       "      <th>1890</th>\n",
       "      <td>674767892831932416</td>\n",
       "      <td>2015-12-10 01:49:36</td>\n",
       "      <td>Twitter for iPhone</td>\n",
       "      <td>This pup was carefully tossed to make it look ...</td>\n",
       "      <td>https://twitter.com/dog_rates/status/674767892...</td>\n",
       "      <td>none</td>\n",
       "      <td>1.2</td>\n",
       "      <td></td>\n",
       "    </tr>\n",
       "    <tr>\n",
       "      <th>1584</th>\n",
       "      <td>687096057537363968</td>\n",
       "      <td>2016-01-13 02:17:20</td>\n",
       "      <td>Twitter for iPhone</td>\n",
       "      <td>This pupper's New Year's resolution was to bec...</td>\n",
       "      <td>https://twitter.com/dog_rates/status/687096057...</td>\n",
       "      <td>none</td>\n",
       "      <td>1.1</td>\n",
       "      <td>pupper</td>\n",
       "    </tr>\n",
       "    <tr>\n",
       "      <th>169</th>\n",
       "      <td>859196978902773760</td>\n",
       "      <td>2017-05-02 00:04:57</td>\n",
       "      <td>Twitter for iPhone</td>\n",
       "      <td>We only rate dogs. This is quite clearly a smo...</td>\n",
       "      <td>https://twitter.com/dog_rates/status/859196978...</td>\n",
       "      <td>quite</td>\n",
       "      <td>1.2</td>\n",
       "      <td></td>\n",
       "    </tr>\n",
       "    <tr>\n",
       "      <th>2350</th>\n",
       "      <td>666050758794694657</td>\n",
       "      <td>2015-11-16 00:30:50</td>\n",
       "      <td>Twitter for iPhone</td>\n",
       "      <td>This is a truly beautiful English Wilson Staff...</td>\n",
       "      <td>https://twitter.com/dog_rates/status/666050758...</td>\n",
       "      <td>retriever</td>\n",
       "      <td>1.0</td>\n",
       "      <td></td>\n",
       "    </tr>\n",
       "    <tr>\n",
       "      <th>525</th>\n",
       "      <td>809084759137812480</td>\n",
       "      <td>2016-12-14 17:16:53</td>\n",
       "      <td>Twitter for iPhone</td>\n",
       "      <td>This is Wallace. You said you brushed your tee...</td>\n",
       "      <td>https://twitter.com/dog_rates/status/809084759...</td>\n",
       "      <td>wallace</td>\n",
       "      <td>1.1</td>\n",
       "      <td></td>\n",
       "    </tr>\n",
       "    <tr>\n",
       "      <th>2063</th>\n",
       "      <td>671159727754231808</td>\n",
       "      <td>2015-11-30 02:52:03</td>\n",
       "      <td>Twitter for iPhone</td>\n",
       "      <td>This is Anthony. He just finished up his maste...</td>\n",
       "      <td>https://twitter.com/dog_rates/status/671159727...</td>\n",
       "      <td>anthony</td>\n",
       "      <td>0.5</td>\n",
       "      <td></td>\n",
       "    </tr>\n",
       "    <tr>\n",
       "      <th>2026</th>\n",
       "      <td>671879137494245376</td>\n",
       "      <td>2015-12-02 02:30:43</td>\n",
       "      <td>Twitter for iPhone</td>\n",
       "      <td>This is Brad. He's a chubby lil pup. Doesn't r...</td>\n",
       "      <td>https://twitter.com/dog_rates/status/671879137...</td>\n",
       "      <td>brad</td>\n",
       "      <td>0.5</td>\n",
       "      <td></td>\n",
       "    </tr>\n",
       "    <tr>\n",
       "      <th>166</th>\n",
       "      <td>859924526012018688</td>\n",
       "      <td>2017-05-04 00:15:58</td>\n",
       "      <td>Twitter for iPhone</td>\n",
       "      <td>Meet Milky. She has no idea what happened. Jus...</td>\n",
       "      <td>https://twitter.com/dog_rates/status/859924526...</td>\n",
       "      <td>milky</td>\n",
       "      <td>1.2</td>\n",
       "      <td></td>\n",
       "    </tr>\n",
       "    <tr>\n",
       "      <th>1011</th>\n",
       "      <td>747439450712596480</td>\n",
       "      <td>2016-06-27 14:40:26</td>\n",
       "      <td>Vine Make a Scene</td>\n",
       "      <td>This is Linus. He just wanted to say hello but...</td>\n",
       "      <td>https://vine.co/v/5uTVXWvn3Ip</td>\n",
       "      <td>linus</td>\n",
       "      <td>1.2</td>\n",
       "      <td></td>\n",
       "    </tr>\n",
       "    <tr>\n",
       "      <th>1070</th>\n",
       "      <td>740359016048689152</td>\n",
       "      <td>2016-06-08 01:45:19</td>\n",
       "      <td>Twitter for iPhone</td>\n",
       "      <td>This is Chase. He's in a predicament. 9/10 hel...</td>\n",
       "      <td>https://twitter.com/dog_rates/status/740359016...</td>\n",
       "      <td>chase</td>\n",
       "      <td>0.9</td>\n",
       "      <td></td>\n",
       "    </tr>\n",
       "    <tr>\n",
       "      <th>2228</th>\n",
       "      <td>668256321989451776</td>\n",
       "      <td>2015-11-22 02:34:57</td>\n",
       "      <td>Twitter for iPhone</td>\n",
       "      <td>This is Jareld. Jareld rules these waters. Lad...</td>\n",
       "      <td>https://twitter.com/dog_rates/status/668256321...</td>\n",
       "      <td>jareld</td>\n",
       "      <td>1.3</td>\n",
       "      <td></td>\n",
       "    </tr>\n",
       "    <tr>\n",
       "      <th>1075</th>\n",
       "      <td>739623569819336705</td>\n",
       "      <td>2016-06-06 01:02:55</td>\n",
       "      <td>Vine Make a Scene</td>\n",
       "      <td>Here's a doggo that don't need no human. 12/10...</td>\n",
       "      <td>https://vine.co/v/iY9Fr1I31U6</td>\n",
       "      <td>none</td>\n",
       "      <td>1.2</td>\n",
       "      <td>doggo</td>\n",
       "    </tr>\n",
       "    <tr>\n",
       "      <th>1889</th>\n",
       "      <td>674774481756377088</td>\n",
       "      <td>2015-12-10 02:15:47</td>\n",
       "      <td>Twitter for iPhone</td>\n",
       "      <td>This is Superpup. His head isn't proportional ...</td>\n",
       "      <td>https://twitter.com/dog_rates/status/674774481...</td>\n",
       "      <td>superpup</td>\n",
       "      <td>1.1</td>\n",
       "      <td>pupper</td>\n",
       "    </tr>\n",
       "    <tr>\n",
       "      <th>1638</th>\n",
       "      <td>684188786104872960</td>\n",
       "      <td>2016-01-05 01:44:52</td>\n",
       "      <td>Twitter for iPhone</td>\n",
       "      <td>\"Yo Boomer I'm taking a selfie, grab your stic...</td>\n",
       "      <td>https://twitter.com/dog_rates/status/684188786...</td>\n",
       "      <td>none</td>\n",
       "      <td>1.0</td>\n",
       "      <td></td>\n",
       "    </tr>\n",
       "    <tr>\n",
       "      <th>951</th>\n",
       "      <td>751950017322246144</td>\n",
       "      <td>2016-07-10 01:23:49</td>\n",
       "      <td>Vine Make a Scene</td>\n",
       "      <td>This is Lola. She's a surfing pupper. 13/10 ma...</td>\n",
       "      <td>https://vine.co/v/5WrjaYAMvMO</td>\n",
       "      <td>lola</td>\n",
       "      <td>1.3</td>\n",
       "      <td>pupper</td>\n",
       "    </tr>\n",
       "    <tr>\n",
       "      <th>318</th>\n",
       "      <td>834574053763584002</td>\n",
       "      <td>2017-02-23 01:22:14</td>\n",
       "      <td>Twitter for iPhone</td>\n",
       "      <td>Here's a doggo fully pupared for a shower. H*c...</td>\n",
       "      <td>https://twitter.com/dog_rates/status/834574053...</td>\n",
       "      <td>none</td>\n",
       "      <td>1.3</td>\n",
       "      <td>doggo</td>\n",
       "    </tr>\n",
       "    <tr>\n",
       "      <th>1955</th>\n",
       "      <td>673636718965334016</td>\n",
       "      <td>2015-12-06 22:54:44</td>\n",
       "      <td>Twitter for iPhone</td>\n",
       "      <td>This is a Lofted Aphrodisiac Terrier named Kip...</td>\n",
       "      <td>https://twitter.com/dog_rates/status/673636718...</td>\n",
       "      <td>kip</td>\n",
       "      <td>1.0</td>\n",
       "      <td></td>\n",
       "    </tr>\n",
       "    <tr>\n",
       "      <th>487</th>\n",
       "      <td>814153002265309185</td>\n",
       "      <td>2016-12-28 16:56:16</td>\n",
       "      <td>Twitter for iPhone</td>\n",
       "      <td>This is Oshie. He's ready to party. Bought tha...</td>\n",
       "      <td>https://twitter.com/dog_rates/status/814153002...</td>\n",
       "      <td>oshie</td>\n",
       "      <td>1.2</td>\n",
       "      <td></td>\n",
       "    </tr>\n",
       "    <tr>\n",
       "      <th>708</th>\n",
       "      <td>785264754247995392</td>\n",
       "      <td>2016-10-09 23:44:41</td>\n",
       "      <td>Twitter for iPhone</td>\n",
       "      <td>This is Doc. He requested to be carried around...</td>\n",
       "      <td>https://twitter.com/dog_rates/status/785264754...</td>\n",
       "      <td>doc</td>\n",
       "      <td>1.2</td>\n",
       "      <td></td>\n",
       "    </tr>\n",
       "    <tr>\n",
       "      <th>882</th>\n",
       "      <td>760290219849637889</td>\n",
       "      <td>2016-08-02 01:44:48</td>\n",
       "      <td>Twitter Web Client</td>\n",
       "      <td>This is Rocco. He's doing his best. 13/10 some...</td>\n",
       "      <td>https://twitter.com/dog_rates/status/760290219...</td>\n",
       "      <td>rocco</td>\n",
       "      <td>1.3</td>\n",
       "      <td></td>\n",
       "    </tr>\n",
       "    <tr>\n",
       "      <th>1203</th>\n",
       "      <td>716285507865542656</td>\n",
       "      <td>2016-04-02 15:25:47</td>\n",
       "      <td>Twitter for iPhone</td>\n",
       "      <td>This is Stephanus. She stays woke. 12/10 https...</td>\n",
       "      <td>https://twitter.com/dog_rates/status/716285507...</td>\n",
       "      <td>stephanus</td>\n",
       "      <td>1.2</td>\n",
       "      <td></td>\n",
       "    </tr>\n",
       "    <tr>\n",
       "      <th>758</th>\n",
       "      <td>778408200802557953</td>\n",
       "      <td>2016-09-21 01:39:11</td>\n",
       "      <td>Twitter for iPhone</td>\n",
       "      <td>RIP Loki. Thank you for the good times. You wi...</td>\n",
       "      <td>https://twitter.com/dog_rates/status/778408200...</td>\n",
       "      <td>none</td>\n",
       "      <td>1.4</td>\n",
       "      <td></td>\n",
       "    </tr>\n",
       "    <tr>\n",
       "      <th>158</th>\n",
       "      <td>861005113778896900</td>\n",
       "      <td>2017-05-06 23:49:50</td>\n",
       "      <td>Twitter for iPhone</td>\n",
       "      <td>This is Burt. He thinks your thesis statement ...</td>\n",
       "      <td>https://twitter.com/dog_rates/status/861005113...</td>\n",
       "      <td>burt</td>\n",
       "      <td>1.2</td>\n",
       "      <td></td>\n",
       "    </tr>\n",
       "    <tr>\n",
       "      <th>1735</th>\n",
       "      <td>679729593985699840</td>\n",
       "      <td>2015-12-23 18:25:38</td>\n",
       "      <td>Twitter for iPhone</td>\n",
       "      <td>This is Hunter. He was playing with his ball m...</td>\n",
       "      <td>https://twitter.com/dog_rates/status/679729593...</td>\n",
       "      <td>hunter</td>\n",
       "      <td>0.8</td>\n",
       "      <td></td>\n",
       "    </tr>\n",
       "  </tbody>\n",
       "</table>\n",
       "</div>"
      ],
      "text/plain": [
       "                tweet_id           timestamp              source  \\\n",
       "270   841314665196081154 2017-03-13 15:47:01  Twitter Web Client   \n",
       "1947  673700254269775872 2015-12-07 03:07:12  Twitter for iPhone   \n",
       "896   759099523532779520 2016-07-29 18:53:24  Twitter for iPhone   \n",
       "947   752519690950500352 2016-07-11 15:07:30  Twitter for iPhone   \n",
       "650   792883833364439040 2016-10-31 00:20:11  Twitter for iPhone   \n",
       "1828  676263575653122048 2015-12-14 04:52:55  Twitter for iPhone   \n",
       "750   779123168116150273 2016-09-23 01:00:13  Twitter for iPhone   \n",
       "1878  675047298674663426 2015-12-10 20:19:52  Twitter for iPhone   \n",
       "1144  727286334147182592 2016-05-02 23:59:09  Twitter for iPhone   \n",
       "921   756288534030475264 2016-07-22 00:43:32  Twitter for iPhone   \n",
       "1190  718234618122661888 2016-04-08 00:30:51  Twitter for iPhone   \n",
       "511   811985624773361665 2016-12-22 17:23:53  Twitter for iPhone   \n",
       "1770  678341075375947776 2015-12-19 22:28:09  Twitter for iPhone   \n",
       "443   819347104292290561 2017-01-12 00:55:47  Twitter for iPhone   \n",
       "1019  746790600704425984 2016-06-25 19:42:08  Twitter for iPhone   \n",
       "1607  685663452032069632 2016-01-09 03:24:40  Twitter for iPhone   \n",
       "379   827653905312006145 2017-02-03 23:04:02  Twitter for iPhone   \n",
       "233   847842811428974592 2017-03-31 16:07:33  Twitter for iPhone   \n",
       "2276  667443425659232256 2015-11-19 20:44:47  Twitter for iPhone   \n",
       "1566  687841446767013888 2016-01-15 03:39:15   Vine Make a Scene   \n",
       "838   767500508068192258 2016-08-21 23:15:55  Twitter for iPhone   \n",
       "87    875144289856114688 2017-06-15 00:13:52  Twitter for iPhone   \n",
       "2167  669359674819481600 2015-11-25 03:39:17  Twitter for iPhone   \n",
       "1773  678255464182861824 2015-12-19 16:47:58  Twitter for iPhone   \n",
       "299   836989968035819520 2017-03-01 17:22:13  Twitter for iPhone   \n",
       "1136  728387165835677696 2016-05-06 00:53:27  Twitter for iPhone   \n",
       "1890  674767892831932416 2015-12-10 01:49:36  Twitter for iPhone   \n",
       "1584  687096057537363968 2016-01-13 02:17:20  Twitter for iPhone   \n",
       "169   859196978902773760 2017-05-02 00:04:57  Twitter for iPhone   \n",
       "2350  666050758794694657 2015-11-16 00:30:50  Twitter for iPhone   \n",
       "525   809084759137812480 2016-12-14 17:16:53  Twitter for iPhone   \n",
       "2063  671159727754231808 2015-11-30 02:52:03  Twitter for iPhone   \n",
       "2026  671879137494245376 2015-12-02 02:30:43  Twitter for iPhone   \n",
       "166   859924526012018688 2017-05-04 00:15:58  Twitter for iPhone   \n",
       "1011  747439450712596480 2016-06-27 14:40:26   Vine Make a Scene   \n",
       "1070  740359016048689152 2016-06-08 01:45:19  Twitter for iPhone   \n",
       "2228  668256321989451776 2015-11-22 02:34:57  Twitter for iPhone   \n",
       "1075  739623569819336705 2016-06-06 01:02:55   Vine Make a Scene   \n",
       "1889  674774481756377088 2015-12-10 02:15:47  Twitter for iPhone   \n",
       "1638  684188786104872960 2016-01-05 01:44:52  Twitter for iPhone   \n",
       "951   751950017322246144 2016-07-10 01:23:49   Vine Make a Scene   \n",
       "318   834574053763584002 2017-02-23 01:22:14  Twitter for iPhone   \n",
       "1955  673636718965334016 2015-12-06 22:54:44  Twitter for iPhone   \n",
       "487   814153002265309185 2016-12-28 16:56:16  Twitter for iPhone   \n",
       "708   785264754247995392 2016-10-09 23:44:41  Twitter for iPhone   \n",
       "882   760290219849637889 2016-08-02 01:44:48  Twitter Web Client   \n",
       "1203  716285507865542656 2016-04-02 15:25:47  Twitter for iPhone   \n",
       "758   778408200802557953 2016-09-21 01:39:11  Twitter for iPhone   \n",
       "158   861005113778896900 2017-05-06 23:49:50  Twitter for iPhone   \n",
       "1735  679729593985699840 2015-12-23 18:25:38  Twitter for iPhone   \n",
       "\n",
       "                                                   text  \\\n",
       "270   This is Max. There's no way in h*ck you're tak...   \n",
       "1947  Large blue dog here. Cool shades. Flipping us ...   \n",
       "896   Meet Toby. He has a drinking problem. Inflatab...   \n",
       "947   Hopefully this puppo on a swing will help get ...   \n",
       "650   This is Bailey. She's rather h*ckin hype for H...   \n",
       "1828  All this pupper wanted to do was go skiing. No...   \n",
       "750   This is Reggie. He hugs everyone he meets. 12/...   \n",
       "1878  This is a fluffy albino Bacardi Columbia mix. ...   \n",
       "1144  I swear to god if we get sent another Blue Mad...   \n",
       "921   Here's a heartwarming scene of a single father...   \n",
       "1190  This is Suki. She was born with a blurry tail ...   \n",
       "511   Say hello to Ted. He accidentally opened the f...   \n",
       "1770  This pupper likes tape. 12/10 https://t.co/cSp...   \n",
       "443   Say hello to Anna and Elsa. They fall asleep i...   \n",
       "1019  When you just can't resist... 10/10 topnotch t...   \n",
       "1607  Meet Brooks. He's confused by the almighty bal...   \n",
       "379   This is Boots. She doesn't know what to do wit...   \n",
       "233   This is Rontu. He is described as a pal, cuddl...   \n",
       "2276  Exotic dog here. Long neck. Weird paws. Obsess...   \n",
       "1566  13/10 I can't stop watching this (vid by @k8ly...   \n",
       "838   This is Louie. He's making quite a h*ckin mess...   \n",
       "87    Meet Nugget and Hank. Nugget took Hank's bone....   \n",
       "2167  Meet Saydee. She's a Rochester  Ecclesiastical...   \n",
       "1773  This is Jessifer. She is a Bismoth Teriyaki. F...   \n",
       "299   This is Mookie. He really enjoys shopping but ...   \n",
       "1136  This is Enchilada (yes, that's her real name)....   \n",
       "1890  This pup was carefully tossed to make it look ...   \n",
       "1584  This pupper's New Year's resolution was to bec...   \n",
       "169   We only rate dogs. This is quite clearly a smo...   \n",
       "2350  This is a truly beautiful English Wilson Staff...   \n",
       "525   This is Wallace. You said you brushed your tee...   \n",
       "2063  This is Anthony. He just finished up his maste...   \n",
       "2026  This is Brad. He's a chubby lil pup. Doesn't r...   \n",
       "166   Meet Milky. She has no idea what happened. Jus...   \n",
       "1011  This is Linus. He just wanted to say hello but...   \n",
       "1070  This is Chase. He's in a predicament. 9/10 hel...   \n",
       "2228  This is Jareld. Jareld rules these waters. Lad...   \n",
       "1075  Here's a doggo that don't need no human. 12/10...   \n",
       "1889  This is Superpup. His head isn't proportional ...   \n",
       "1638  \"Yo Boomer I'm taking a selfie, grab your stic...   \n",
       "951   This is Lola. She's a surfing pupper. 13/10 ma...   \n",
       "318   Here's a doggo fully pupared for a shower. H*c...   \n",
       "1955  This is a Lofted Aphrodisiac Terrier named Kip...   \n",
       "487   This is Oshie. He's ready to party. Bought tha...   \n",
       "708   This is Doc. He requested to be carried around...   \n",
       "882   This is Rocco. He's doing his best. 13/10 some...   \n",
       "1203  This is Stephanus. She stays woke. 12/10 https...   \n",
       "758   RIP Loki. Thank you for the good times. You wi...   \n",
       "158   This is Burt. He thinks your thesis statement ...   \n",
       "1735  This is Hunter. He was playing with his ball m...   \n",
       "\n",
       "                                          expanded_urls       name  rating  \\\n",
       "270   https://twitter.com/dog_rates/status/841314665...        max     1.3   \n",
       "1947  https://twitter.com/dog_rates/status/673700254...       none     0.3   \n",
       "896   https://twitter.com/dog_rates/status/759099523...       toby     0.7   \n",
       "947   https://twitter.com/dog_rates/status/752519690...       none     1.1   \n",
       "650   https://twitter.com/dog_rates/status/792883833...     bailey     1.2   \n",
       "1828  https://twitter.com/dog_rates/status/676263575...       none     1.0   \n",
       "750   https://twitter.com/dog_rates/status/779123168...     reggie     1.2   \n",
       "1878  https://twitter.com/dog_rates/status/675047298...        mix     1.1   \n",
       "1144  https://twitter.com/dog_rates/status/727286334...       none     0.9   \n",
       "921   https://twitter.com/dog_rates/status/756288534...       none     1.2   \n",
       "1190  https://twitter.com/dog_rates/status/718234618...       suki     1.1   \n",
       "511   https://twitter.com/dog_rates/status/811985624...        ted     1.1   \n",
       "1770  https://twitter.com/dog_rates/status/678341075...       none     1.2   \n",
       "443   https://twitter.com/dog_rates/status/819347104...       anna     1.2   \n",
       "1019  https://twitter.com/dog_rates/status/746790600...       none     1.0   \n",
       "1607  https://twitter.com/dog_rates/status/685663452...     brooks     1.2   \n",
       "379   https://twitter.com/dog_rates/status/827653905...      boots     1.2   \n",
       "233   https://www.gofundme.com/help-save-rontu,https...      rontu     1.2   \n",
       "2276  https://twitter.com/dog_rates/status/667443425...       none     0.6   \n",
       "1566                      https://vine.co/v/iOWwUPH1hrw       none     1.3   \n",
       "838   https://twitter.com/dog_rates/status/767500508...      louie     1.2   \n",
       "87    https://twitter.com/dog_rates/status/875144289...     nugget     1.3   \n",
       "2167  https://twitter.com/dog_rates/status/669359674...     saydee     1.1   \n",
       "1773  https://twitter.com/dog_rates/status/678255464...   jessifer     0.9   \n",
       "299   https://twitter.com/dog_rates/status/836989968...     mookie     1.2   \n",
       "1136  https://twitter.com/dog_rates/status/728387165...  enchilada     1.2   \n",
       "1890  https://twitter.com/dog_rates/status/674767892...       none     1.2   \n",
       "1584  https://twitter.com/dog_rates/status/687096057...       none     1.1   \n",
       "169   https://twitter.com/dog_rates/status/859196978...      quite     1.2   \n",
       "2350  https://twitter.com/dog_rates/status/666050758...  retriever     1.0   \n",
       "525   https://twitter.com/dog_rates/status/809084759...    wallace     1.1   \n",
       "2063  https://twitter.com/dog_rates/status/671159727...    anthony     0.5   \n",
       "2026  https://twitter.com/dog_rates/status/671879137...       brad     0.5   \n",
       "166   https://twitter.com/dog_rates/status/859924526...      milky     1.2   \n",
       "1011                      https://vine.co/v/5uTVXWvn3Ip      linus     1.2   \n",
       "1070  https://twitter.com/dog_rates/status/740359016...      chase     0.9   \n",
       "2228  https://twitter.com/dog_rates/status/668256321...     jareld     1.3   \n",
       "1075                      https://vine.co/v/iY9Fr1I31U6       none     1.2   \n",
       "1889  https://twitter.com/dog_rates/status/674774481...   superpup     1.1   \n",
       "1638  https://twitter.com/dog_rates/status/684188786...       none     1.0   \n",
       "951                       https://vine.co/v/5WrjaYAMvMO       lola     1.3   \n",
       "318   https://twitter.com/dog_rates/status/834574053...       none     1.3   \n",
       "1955  https://twitter.com/dog_rates/status/673636718...        kip     1.0   \n",
       "487   https://twitter.com/dog_rates/status/814153002...      oshie     1.2   \n",
       "708   https://twitter.com/dog_rates/status/785264754...        doc     1.2   \n",
       "882   https://twitter.com/dog_rates/status/760290219...      rocco     1.3   \n",
       "1203  https://twitter.com/dog_rates/status/716285507...  stephanus     1.2   \n",
       "758   https://twitter.com/dog_rates/status/778408200...       none     1.4   \n",
       "158   https://twitter.com/dog_rates/status/861005113...       burt     1.2   \n",
       "1735  https://twitter.com/dog_rates/status/679729593...     hunter     0.8   \n",
       "\n",
       "       breed  \n",
       "270           \n",
       "1947          \n",
       "896           \n",
       "947    puppo  \n",
       "650           \n",
       "1828  pupper  \n",
       "750           \n",
       "1878          \n",
       "1144          \n",
       "921           \n",
       "1190          \n",
       "511           \n",
       "1770  pupper  \n",
       "443           \n",
       "1019          \n",
       "1607          \n",
       "379           \n",
       "233           \n",
       "2276          \n",
       "1566          \n",
       "838           \n",
       "87            \n",
       "2167          \n",
       "1773          \n",
       "299           \n",
       "1136          \n",
       "1890          \n",
       "1584  pupper  \n",
       "169           \n",
       "2350          \n",
       "525           \n",
       "2063          \n",
       "2026          \n",
       "166           \n",
       "1011          \n",
       "1070          \n",
       "2228          \n",
       "1075   doggo  \n",
       "1889  pupper  \n",
       "1638          \n",
       "951   pupper  \n",
       "318    doggo  \n",
       "1955          \n",
       "487           \n",
       "708           \n",
       "882           \n",
       "1203          \n",
       "758           \n",
       "158           \n",
       "1735          "
      ]
     },
     "execution_count": 27,
     "metadata": {},
     "output_type": "execute_result"
    }
   ],
   "source": [
    "tweet_clean.sample(50)"
   ]
  },
  {
   "cell_type": "markdown",
   "metadata": {},
   "source": [
    "#### `info` table and `image` table should be part of the `tweet` table"
   ]
  },
  {
   "cell_type": "markdown",
   "metadata": {},
   "source": [
    "##### Define\n",
    "Merge the info table to the treatments table, joining on tweet_id."
   ]
  },
  {
   "cell_type": "markdown",
   "metadata": {},
   "source": [
    "##### Code"
   ]
  },
  {
   "cell_type": "code",
   "execution_count": 28,
   "metadata": {
    "collapsed": true
   },
   "outputs": [],
   "source": [
    "image_clean = pd.merge(image_clean, info_clean,\n",
    "                            on=['tweet_id'], how='left')"
   ]
  },
  {
   "cell_type": "code",
   "execution_count": 29,
   "metadata": {
    "collapsed": true
   },
   "outputs": [],
   "source": [
    "tweet_clean = pd.merge(tweet_clean, image_clean,\n",
    "                            on=['tweet_id'], how='left')"
   ]
  },
  {
   "cell_type": "markdown",
   "metadata": {},
   "source": [
    "##### Test"
   ]
  },
  {
   "cell_type": "code",
   "execution_count": 30,
   "metadata": {
    "collapsed": false,
    "scrolled": true
   },
   "outputs": [
    {
     "name": "stdout",
     "output_type": "stream",
     "text": [
      "<class 'pandas.core.frame.DataFrame'>\n",
      "Int64Index: 2088 entries, 0 to 2087\n",
      "Data columns (total 21 columns):\n",
      "tweet_id          2088 non-null int64\n",
      "timestamp         2088 non-null datetime64[ns]\n",
      "source            2088 non-null object\n",
      "text              2088 non-null object\n",
      "expanded_urls     2088 non-null object\n",
      "name              2088 non-null object\n",
      "rating            2088 non-null float64\n",
      "breed             2088 non-null category\n",
      "jpg_url           1899 non-null object\n",
      "img_num           1899 non-null float64\n",
      "p1                1899 non-null object\n",
      "p1_conf           1899 non-null float64\n",
      "p1_dog            1899 non-null object\n",
      "p2                1899 non-null object\n",
      "p2_conf           1899 non-null float64\n",
      "p2_dog            1899 non-null object\n",
      "p3                1899 non-null object\n",
      "p3_conf           1899 non-null float64\n",
      "p3_dog            1899 non-null object\n",
      "retweet_count     1899 non-null float64\n",
      "favorite_count    1899 non-null float64\n",
      "dtypes: category(1), datetime64[ns](1), float64(7), int64(1), object(11)\n",
      "memory usage: 345.0+ KB\n"
     ]
    }
   ],
   "source": [
    "tweet_clean.info()"
   ]
  },
  {
   "cell_type": "code",
   "execution_count": 31,
   "metadata": {
    "collapsed": false
   },
   "outputs": [
    {
     "data": {
      "text/html": [
       "<div>\n",
       "<style>\n",
       "    .dataframe thead tr:only-child th {\n",
       "        text-align: right;\n",
       "    }\n",
       "\n",
       "    .dataframe thead th {\n",
       "        text-align: left;\n",
       "    }\n",
       "\n",
       "    .dataframe tbody tr th {\n",
       "        vertical-align: top;\n",
       "    }\n",
       "</style>\n",
       "<table border=\"1\" class=\"dataframe\">\n",
       "  <thead>\n",
       "    <tr style=\"text-align: right;\">\n",
       "      <th></th>\n",
       "      <th>tweet_id</th>\n",
       "      <th>jpg_url</th>\n",
       "      <th>img_num</th>\n",
       "      <th>p1</th>\n",
       "      <th>p1_conf</th>\n",
       "      <th>p1_dog</th>\n",
       "      <th>p2</th>\n",
       "      <th>p2_conf</th>\n",
       "      <th>p2_dog</th>\n",
       "      <th>p3</th>\n",
       "      <th>p3_conf</th>\n",
       "      <th>p3_dog</th>\n",
       "      <th>retweet_count</th>\n",
       "      <th>favorite_count</th>\n",
       "    </tr>\n",
       "  </thead>\n",
       "  <tbody>\n",
       "    <tr>\n",
       "      <th>1712</th>\n",
       "      <td>837012587749474308</td>\n",
       "      <td>https://pbs.twimg.com/media/C52pYJXWgAA2BEf.jpg</td>\n",
       "      <td>1</td>\n",
       "      <td>toilet_tissue</td>\n",
       "      <td>0.186387</td>\n",
       "      <td>False</td>\n",
       "      <td>cowboy_hat</td>\n",
       "      <td>0.158555</td>\n",
       "      <td>False</td>\n",
       "      <td>sombrero</td>\n",
       "      <td>0.14947</td>\n",
       "      <td>False</td>\n",
       "      <td>NaN</td>\n",
       "      <td>NaN</td>\n",
       "    </tr>\n",
       "  </tbody>\n",
       "</table>\n",
       "</div>"
      ],
      "text/plain": [
       "                tweet_id                                          jpg_url  \\\n",
       "1712  837012587749474308  https://pbs.twimg.com/media/C52pYJXWgAA2BEf.jpg   \n",
       "\n",
       "      img_num             p1   p1_conf  p1_dog          p2   p2_conf  p2_dog  \\\n",
       "1712        1  toilet_tissue  0.186387   False  cowboy_hat  0.158555   False   \n",
       "\n",
       "            p3  p3_conf  p3_dog  retweet_count  favorite_count  \n",
       "1712  sombrero  0.14947   False            NaN             NaN  "
      ]
     },
     "execution_count": 31,
     "metadata": {},
     "output_type": "execute_result"
    }
   ],
   "source": [
    "image_clean[image_clean['retweet_count'].isnull()]"
   ]
  },
  {
   "cell_type": "code",
   "execution_count": 32,
   "metadata": {
    "collapsed": false
   },
   "outputs": [
    {
     "data": {
      "text/html": [
       "<div>\n",
       "<style>\n",
       "    .dataframe thead tr:only-child th {\n",
       "        text-align: right;\n",
       "    }\n",
       "\n",
       "    .dataframe thead th {\n",
       "        text-align: left;\n",
       "    }\n",
       "\n",
       "    .dataframe tbody tr th {\n",
       "        vertical-align: top;\n",
       "    }\n",
       "</style>\n",
       "<table border=\"1\" class=\"dataframe\">\n",
       "  <thead>\n",
       "    <tr style=\"text-align: right;\">\n",
       "      <th></th>\n",
       "      <th>tweet_id</th>\n",
       "      <th>timestamp</th>\n",
       "      <th>source</th>\n",
       "      <th>text</th>\n",
       "      <th>expanded_urls</th>\n",
       "      <th>name</th>\n",
       "      <th>rating</th>\n",
       "      <th>breed</th>\n",
       "      <th>jpg_url</th>\n",
       "      <th>img_num</th>\n",
       "      <th>...</th>\n",
       "      <th>p1_conf</th>\n",
       "      <th>p1_dog</th>\n",
       "      <th>p2</th>\n",
       "      <th>p2_conf</th>\n",
       "      <th>p2_dog</th>\n",
       "      <th>p3</th>\n",
       "      <th>p3_conf</th>\n",
       "      <th>p3_dog</th>\n",
       "      <th>retweet_count</th>\n",
       "      <th>favorite_count</th>\n",
       "    </tr>\n",
       "  </thead>\n",
       "  <tbody>\n",
       "    <tr>\n",
       "      <th>1388</th>\n",
       "      <td>684567543613382656</td>\n",
       "      <td>2016-01-06 02:49:55</td>\n",
       "      <td>Twitter for iPhone</td>\n",
       "      <td>This is Bobby. He doesn't give a damn about pe...</td>\n",
       "      <td>https://twitter.com/dog_rates/status/684567543...</td>\n",
       "      <td>bobby</td>\n",
       "      <td>0.4</td>\n",
       "      <td></td>\n",
       "      <td>https://pbs.twimg.com/media/CYASi6FWQAEQMW2.jpg</td>\n",
       "      <td>1.0</td>\n",
       "      <td>...</td>\n",
       "      <td>0.401942</td>\n",
       "      <td>False</td>\n",
       "      <td>llama</td>\n",
       "      <td>0.229145</td>\n",
       "      <td>False</td>\n",
       "      <td>seat_belt</td>\n",
       "      <td>0.209393</td>\n",
       "      <td>False</td>\n",
       "      <td>1378.0</td>\n",
       "      <td>3248.0</td>\n",
       "    </tr>\n",
       "    <tr>\n",
       "      <th>1922</th>\n",
       "      <td>668981893510119424</td>\n",
       "      <td>2015-11-24 02:38:07</td>\n",
       "      <td>Twitter for iPhone</td>\n",
       "      <td>Unique dog here. Oddly shaped tail. Long pink ...</td>\n",
       "      <td>https://twitter.com/dog_rates/status/668981893...</td>\n",
       "      <td>none</td>\n",
       "      <td>0.4</td>\n",
       "      <td></td>\n",
       "      <td>https://pbs.twimg.com/media/CUize-0WEAAerAK.jpg</td>\n",
       "      <td>1.0</td>\n",
       "      <td>...</td>\n",
       "      <td>0.447246</td>\n",
       "      <td>False</td>\n",
       "      <td>coral_reef</td>\n",
       "      <td>0.238625</td>\n",
       "      <td>False</td>\n",
       "      <td>goldfish</td>\n",
       "      <td>0.040227</td>\n",
       "      <td>False</td>\n",
       "      <td>330.0</td>\n",
       "      <td>565.0</td>\n",
       "    </tr>\n",
       "    <tr>\n",
       "      <th>2043</th>\n",
       "      <td>666781792255496192</td>\n",
       "      <td>2015-11-18 00:55:42</td>\n",
       "      <td>Twitter for iPhone</td>\n",
       "      <td>This is a purebred Bacardi named Octaviath. Ca...</td>\n",
       "      <td>https://twitter.com/dog_rates/status/666781792...</td>\n",
       "      <td>octaviath</td>\n",
       "      <td>1.0</td>\n",
       "      <td></td>\n",
       "      <td>https://pbs.twimg.com/media/CUDigRXXIAATI_H.jpg</td>\n",
       "      <td>1.0</td>\n",
       "      <td>...</td>\n",
       "      <td>0.618316</td>\n",
       "      <td>True</td>\n",
       "      <td>weimaraner</td>\n",
       "      <td>0.151363</td>\n",
       "      <td>True</td>\n",
       "      <td>vizsla</td>\n",
       "      <td>0.085989</td>\n",
       "      <td>True</td>\n",
       "      <td>203.0</td>\n",
       "      <td>396.0</td>\n",
       "    </tr>\n",
       "    <tr>\n",
       "      <th>193</th>\n",
       "      <td>846505985330044928</td>\n",
       "      <td>2017-03-27 23:35:28</td>\n",
       "      <td>Twitter for iPhone</td>\n",
       "      <td>THIS WAS NOT HIS FAULT HE HAD NO IDEA. 11/10 S...</td>\n",
       "      <td>https://twitter.com/shomaristone/status/846484...</td>\n",
       "      <td>none</td>\n",
       "      <td>1.1</td>\n",
       "      <td></td>\n",
       "      <td>NaN</td>\n",
       "      <td>NaN</td>\n",
       "      <td>...</td>\n",
       "      <td>NaN</td>\n",
       "      <td>NaN</td>\n",
       "      <td>NaN</td>\n",
       "      <td>NaN</td>\n",
       "      <td>NaN</td>\n",
       "      <td>NaN</td>\n",
       "      <td>NaN</td>\n",
       "      <td>NaN</td>\n",
       "      <td>NaN</td>\n",
       "      <td>NaN</td>\n",
       "    </tr>\n",
       "    <tr>\n",
       "      <th>790</th>\n",
       "      <td>747648653817413632</td>\n",
       "      <td>2016-06-28 04:31:44</td>\n",
       "      <td>Vine Make a Scene</td>\n",
       "      <td>This is Keurig. He apparently headbutts other ...</td>\n",
       "      <td>https://vine.co/v/iqIZFtOxEMB</td>\n",
       "      <td>keurig</td>\n",
       "      <td>1.2</td>\n",
       "      <td></td>\n",
       "      <td>NaN</td>\n",
       "      <td>NaN</td>\n",
       "      <td>...</td>\n",
       "      <td>NaN</td>\n",
       "      <td>NaN</td>\n",
       "      <td>NaN</td>\n",
       "      <td>NaN</td>\n",
       "      <td>NaN</td>\n",
       "      <td>NaN</td>\n",
       "      <td>NaN</td>\n",
       "      <td>NaN</td>\n",
       "      <td>NaN</td>\n",
       "      <td>NaN</td>\n",
       "    </tr>\n",
       "  </tbody>\n",
       "</table>\n",
       "<p>5 rows × 21 columns</p>\n",
       "</div>"
      ],
      "text/plain": [
       "                tweet_id           timestamp              source  \\\n",
       "1388  684567543613382656 2016-01-06 02:49:55  Twitter for iPhone   \n",
       "1922  668981893510119424 2015-11-24 02:38:07  Twitter for iPhone   \n",
       "2043  666781792255496192 2015-11-18 00:55:42  Twitter for iPhone   \n",
       "193   846505985330044928 2017-03-27 23:35:28  Twitter for iPhone   \n",
       "790   747648653817413632 2016-06-28 04:31:44   Vine Make a Scene   \n",
       "\n",
       "                                                   text  \\\n",
       "1388  This is Bobby. He doesn't give a damn about pe...   \n",
       "1922  Unique dog here. Oddly shaped tail. Long pink ...   \n",
       "2043  This is a purebred Bacardi named Octaviath. Ca...   \n",
       "193   THIS WAS NOT HIS FAULT HE HAD NO IDEA. 11/10 S...   \n",
       "790   This is Keurig. He apparently headbutts other ...   \n",
       "\n",
       "                                          expanded_urls       name  rating  \\\n",
       "1388  https://twitter.com/dog_rates/status/684567543...      bobby     0.4   \n",
       "1922  https://twitter.com/dog_rates/status/668981893...       none     0.4   \n",
       "2043  https://twitter.com/dog_rates/status/666781792...  octaviath     1.0   \n",
       "193   https://twitter.com/shomaristone/status/846484...       none     1.1   \n",
       "790                       https://vine.co/v/iqIZFtOxEMB     keurig     1.2   \n",
       "\n",
       "     breed                                          jpg_url  img_num  \\\n",
       "1388        https://pbs.twimg.com/media/CYASi6FWQAEQMW2.jpg      1.0   \n",
       "1922        https://pbs.twimg.com/media/CUize-0WEAAerAK.jpg      1.0   \n",
       "2043        https://pbs.twimg.com/media/CUDigRXXIAATI_H.jpg      1.0   \n",
       "193                                                     NaN      NaN   \n",
       "790                                                     NaN      NaN   \n",
       "\n",
       "           ...         p1_conf  p1_dog          p2   p2_conf  p2_dog  \\\n",
       "1388       ...        0.401942   False       llama  0.229145   False   \n",
       "1922       ...        0.447246   False  coral_reef  0.238625   False   \n",
       "2043       ...        0.618316    True  weimaraner  0.151363    True   \n",
       "193        ...             NaN     NaN         NaN       NaN     NaN   \n",
       "790        ...             NaN     NaN         NaN       NaN     NaN   \n",
       "\n",
       "             p3   p3_conf  p3_dog retweet_count  favorite_count  \n",
       "1388  seat_belt  0.209393   False        1378.0          3248.0  \n",
       "1922   goldfish  0.040227   False         330.0           565.0  \n",
       "2043     vizsla  0.085989    True         203.0           396.0  \n",
       "193         NaN       NaN     NaN           NaN             NaN  \n",
       "790         NaN       NaN     NaN           NaN             NaN  \n",
       "\n",
       "[5 rows x 21 columns]"
      ]
     },
     "execution_count": 32,
     "metadata": {},
     "output_type": "execute_result"
    }
   ],
   "source": [
    "tweet_clean.sample(5)"
   ]
  },
  {
   "cell_type": "markdown",
   "metadata": {},
   "source": [
    "## Store"
   ]
  },
  {
   "cell_type": "code",
   "execution_count": 34,
   "metadata": {
    "collapsed": true
   },
   "outputs": [],
   "source": [
    "tweet_clean.to_csv('twitter_archive_master.csv', index = False)"
   ]
  },
  {
   "cell_type": "markdown",
   "metadata": {},
   "source": [
    "## Analyse"
   ]
  },
  {
   "cell_type": "code",
   "execution_count": 35,
   "metadata": {
    "collapsed": true
   },
   "outputs": [],
   "source": [
    "import matplotlib.pyplot as plt"
   ]
  },
  {
   "cell_type": "code",
   "execution_count": 36,
   "metadata": {
    "collapsed": true
   },
   "outputs": [],
   "source": [
    "archive = pd.read_csv('twitter_archive_master.csv')"
   ]
  },
  {
   "cell_type": "code",
   "execution_count": 45,
   "metadata": {
    "collapsed": false
   },
   "outputs": [
    {
     "data": {
      "image/png": "[encoded data removed]",
      "text/plain": [
       "<matplotlib.figure.Figure at 0x10c7df390>"
      ]
     },
     "metadata": {},
     "output_type": "display_data"
    }
   ],
   "source": [
    "plt.hist(x = archive.rating, bins = 30)\n",
    "plt.xlim(0,1.4)\n",
    "plt.xlabel('Rating Score');\n",
    "plt.ylabel('Count');\n",
    "plt.title('Rating Score Distribution');\n",
    "plt.show()"
   ]
  },
  {
   "cell_type": "markdown",
   "metadata": {},
   "source": [
    "#### Most people rates the dog above 1.0. Nearly 500 people rates dog at 1.2."
   ]
  },
  {
   "cell_type": "code",
   "execution_count": 51,
   "metadata": {
    "collapsed": false
   },
   "outputs": [
    {
     "data": {
      "image/png": "[encoded data removed]",
      "text/plain": [
       "<matplotlib.figure.Figure at 0x10fe95690>"
      ]
     },
     "metadata": {},
     "output_type": "display_data"
    }
   ],
   "source": [
    "plt.scatter(x = archive.retweet_count, y = archive.favorite_count)\n",
    "plt.xlim(0, 20000)\n",
    "plt.ylim(0, 60000)\n",
    "plt.xlabel('Retweet Count');\n",
    "plt.ylabel('Favorite Count');\n",
    "plt.title('Retweet Count vs. Favorite Count');\n",
    "plt.show()"
   ]
  },
  {
   "cell_type": "markdown",
   "metadata": {},
   "source": [
    "#### The retweet count and favorite count show linear relationship."
   ]
  },
  {
   "cell_type": "code",
   "execution_count": null,
   "metadata": {
    "collapsed": true
   },
   "outputs": [],
   "source": []
  }
 ],
 "metadata": {
  "kernelspec": {
   "display_name": "Python 2",
   "language": "python",
   "name": "python2"
  },
  "language_info": {
   "codemirror_mode": {
    "name": "ipython",
    "version": 2
   },
   "file_extension": ".py",
   "mimetype": "text/x-python",
   "name": "python",
   "nbconvert_exporter": "python",
   "pygments_lexer": "ipython2",
   "version": "2.7.13"
  }
 },
 "nbformat": 4,
 "nbformat_minor": 2
}
